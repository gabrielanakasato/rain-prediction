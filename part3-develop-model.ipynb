{
 "cells": [
  {
   "cell_type": "markdown",
   "metadata": {},
   "source": [
    "# Introduction"
   ]
  },
  {
   "cell_type": "markdown",
   "metadata": {},
   "source": [
    "> **Will it rain tomorrow?**\n",
    "\n",
    "That is the question we will try to answer in this project, practicing machine learning.\n",
    "\n",
    "## Context\n",
    "\n",
    "A vacation of a group of friends is about to start and they will arrive at the Melbourne Airport tomorrow. They rented a place near the airport and they want to go on foot to the rented place to save money in the beginning of their trip. But, if it is raining, they will have to go there using a mean of transportation, since they do not want to get wet. So, they want to know if it is going to rain tomorrow around the Melbourne Airport to know if they need to schedule a shuttle bus to take them to the rented place.\n",
    "\n",
    "---\n",
    "\n",
    "### Project Objective\n",
    "\n",
    "> **Find if it will tomorrow around the Melbourne Airport.**\n",
    "\n",
    "---\n",
    "\n",
    "## Process\n",
    "\n",
    "This project will be divided into 3 parts:\n",
    "\n",
    "1. Initial Analysis of the Variables\n",
    "2. Baseline\n",
    "3. **Development of the Machine Learning Model**\n"
   ]
  },
  {
   "cell_type": "markdown",
   "metadata": {},
   "source": [
    "# Part 03 | Development of the Machine Learning Model"
   ]
  },
  {
   "cell_type": "code",
   "execution_count": null,
   "metadata": {},
   "outputs": [],
   "source": []
  },
  {
   "cell_type": "code",
   "execution_count": null,
   "metadata": {},
   "outputs": [],
   "source": []
  },
  {
   "cell_type": "code",
   "execution_count": null,
   "metadata": {},
   "outputs": [],
   "source": []
  },
  {
   "cell_type": "markdown",
   "metadata": {},
   "source": [
    "## Setup"
   ]
  },
  {
   "cell_type": "markdown",
   "metadata": {},
   "source": [
    "### Import libraries"
   ]
  },
  {
   "cell_type": "code",
   "execution_count": 1,
   "metadata": {
    "ExecuteTime": {
     "end_time": "2020-10-07T15:28:14.673082Z",
     "start_time": "2020-10-07T15:28:13.422471Z"
    }
   },
   "outputs": [],
   "source": [
    "import matplotlib.pyplot as plt\n",
    "import numpy as np\n",
    "import pandas as pd\n",
    "import seaborn as sns\n",
    "\n",
    "from sklearn.linear_model import LogisticRegression\n",
    "from sklearn.metrics import confusion_matrix, precision_score, recall_score, f1_score, roc_curve, roc_auc_score, precision_recall_curve, plot_roc_curve, plot_precision_recall_curve\n",
    "from sklearn.model_selection import train_test_split, KFold\n",
    "from sklearn.pipeline import Pipeline\n",
    "from sklearn.preprocessing import StandardScaler\n",
    "from sklearn.tree import DecisionTreeClassifier, plot_tree"
   ]
  },
  {
   "cell_type": "markdown",
   "metadata": {},
   "source": [
    "### Import the Dataset"
   ]
  },
  {
   "cell_type": "code",
   "execution_count": 2,
   "metadata": {
    "ExecuteTime": {
     "end_time": "2020-10-07T15:28:16.254227Z",
     "start_time": "2020-10-07T15:28:15.682755Z"
    }
   },
   "outputs": [],
   "source": [
    "# Import the dataset\n",
    "df = pd.read_csv('exported_df/complete_dataset.csv')"
   ]
  },
  {
   "cell_type": "markdown",
   "metadata": {},
   "source": [
    "#### Create a Backup for the Raw Dataframe"
   ]
  },
  {
   "cell_type": "code",
   "execution_count": 3,
   "metadata": {
    "ExecuteTime": {
     "end_time": "2020-10-07T15:28:18.012467Z",
     "start_time": "2020-10-07T15:28:17.977560Z"
    }
   },
   "outputs": [],
   "source": [
    "df_bkp = df.copy()"
   ]
  },
  {
   "cell_type": "markdown",
   "metadata": {},
   "source": [
    "### Final Raw Dataset - Melbourne Airpot"
   ]
  },
  {
   "cell_type": "code",
   "execution_count": 4,
   "metadata": {
    "ExecuteTime": {
     "end_time": "2020-10-07T15:28:23.311756Z",
     "start_time": "2020-10-07T15:28:23.269868Z"
    }
   },
   "outputs": [
    {
     "data": {
      "text/html": [
       "<div>\n",
       "<style scoped>\n",
       "    .dataframe tbody tr th:only-of-type {\n",
       "        vertical-align: middle;\n",
       "    }\n",
       "\n",
       "    .dataframe tbody tr th {\n",
       "        vertical-align: top;\n",
       "    }\n",
       "\n",
       "    .dataframe thead th {\n",
       "        text-align: right;\n",
       "    }\n",
       "</style>\n",
       "<table border=\"1\" class=\"dataframe\">\n",
       "  <thead>\n",
       "    <tr style=\"text-align: right;\">\n",
       "      <th></th>\n",
       "      <th>date</th>\n",
       "      <th>location</th>\n",
       "      <th>mintemp</th>\n",
       "      <th>maxtemp</th>\n",
       "      <th>rainfall</th>\n",
       "      <th>evaporation</th>\n",
       "      <th>sunshine</th>\n",
       "      <th>humidity9am</th>\n",
       "      <th>humidity3pm</th>\n",
       "      <th>pressure9am</th>\n",
       "      <th>...</th>\n",
       "      <th>windgustdir</th>\n",
       "      <th>windgustspeed</th>\n",
       "      <th>winddir9am</th>\n",
       "      <th>winddir3pm</th>\n",
       "      <th>windspeed9am</th>\n",
       "      <th>windspeed3pm</th>\n",
       "      <th>wind_gustdir_complete</th>\n",
       "      <th>wind_gustspeed_complete</th>\n",
       "      <th>raintoday_int</th>\n",
       "      <th>raintomorrow_int</th>\n",
       "    </tr>\n",
       "  </thead>\n",
       "  <tbody>\n",
       "    <tr>\n",
       "      <th>0</th>\n",
       "      <td>2009-01-01</td>\n",
       "      <td>MelbourneAirport</td>\n",
       "      <td>11.2</td>\n",
       "      <td>19.9</td>\n",
       "      <td>0.0</td>\n",
       "      <td>5.6</td>\n",
       "      <td>8.8</td>\n",
       "      <td>55.0</td>\n",
       "      <td>37.0</td>\n",
       "      <td>1005.1</td>\n",
       "      <td>...</td>\n",
       "      <td>NaN</td>\n",
       "      <td>NaN</td>\n",
       "      <td>NaN</td>\n",
       "      <td>NaN</td>\n",
       "      <td>NaN</td>\n",
       "      <td>NaN</td>\n",
       "      <td>SW</td>\n",
       "      <td>69.0</td>\n",
       "      <td>0</td>\n",
       "      <td>1</td>\n",
       "    </tr>\n",
       "    <tr>\n",
       "      <th>1</th>\n",
       "      <td>2009-01-02</td>\n",
       "      <td>MelbourneAirport</td>\n",
       "      <td>7.8</td>\n",
       "      <td>17.8</td>\n",
       "      <td>1.2</td>\n",
       "      <td>7.2</td>\n",
       "      <td>12.9</td>\n",
       "      <td>50.0</td>\n",
       "      <td>43.0</td>\n",
       "      <td>1018.0</td>\n",
       "      <td>...</td>\n",
       "      <td>NaN</td>\n",
       "      <td>NaN</td>\n",
       "      <td>NaN</td>\n",
       "      <td>NaN</td>\n",
       "      <td>NaN</td>\n",
       "      <td>NaN</td>\n",
       "      <td>SSE</td>\n",
       "      <td>56.0</td>\n",
       "      <td>1</td>\n",
       "      <td>0</td>\n",
       "    </tr>\n",
       "    <tr>\n",
       "      <th>2</th>\n",
       "      <td>2009-01-03</td>\n",
       "      <td>MelbourneAirport</td>\n",
       "      <td>6.3</td>\n",
       "      <td>21.1</td>\n",
       "      <td>0.0</td>\n",
       "      <td>6.2</td>\n",
       "      <td>10.5</td>\n",
       "      <td>51.0</td>\n",
       "      <td>35.0</td>\n",
       "      <td>1020.8</td>\n",
       "      <td>...</td>\n",
       "      <td>NaN</td>\n",
       "      <td>NaN</td>\n",
       "      <td>NaN</td>\n",
       "      <td>NaN</td>\n",
       "      <td>NaN</td>\n",
       "      <td>NaN</td>\n",
       "      <td>SSE</td>\n",
       "      <td>31.0</td>\n",
       "      <td>0</td>\n",
       "      <td>0</td>\n",
       "    </tr>\n",
       "    <tr>\n",
       "      <th>3</th>\n",
       "      <td>2009-01-04</td>\n",
       "      <td>MelbourneAirport</td>\n",
       "      <td>8.1</td>\n",
       "      <td>29.2</td>\n",
       "      <td>0.0</td>\n",
       "      <td>6.4</td>\n",
       "      <td>12.5</td>\n",
       "      <td>67.0</td>\n",
       "      <td>23.0</td>\n",
       "      <td>1016.2</td>\n",
       "      <td>...</td>\n",
       "      <td>NaN</td>\n",
       "      <td>NaN</td>\n",
       "      <td>NaN</td>\n",
       "      <td>NaN</td>\n",
       "      <td>NaN</td>\n",
       "      <td>NaN</td>\n",
       "      <td>SSE</td>\n",
       "      <td>35.0</td>\n",
       "      <td>0</td>\n",
       "      <td>0</td>\n",
       "    </tr>\n",
       "    <tr>\n",
       "      <th>4</th>\n",
       "      <td>2009-01-05</td>\n",
       "      <td>MelbourneAirport</td>\n",
       "      <td>9.7</td>\n",
       "      <td>29.0</td>\n",
       "      <td>0.0</td>\n",
       "      <td>7.4</td>\n",
       "      <td>12.3</td>\n",
       "      <td>51.0</td>\n",
       "      <td>31.0</td>\n",
       "      <td>1011.9</td>\n",
       "      <td>...</td>\n",
       "      <td>NaN</td>\n",
       "      <td>NaN</td>\n",
       "      <td>NaN</td>\n",
       "      <td>NaN</td>\n",
       "      <td>NaN</td>\n",
       "      <td>NaN</td>\n",
       "      <td>SE</td>\n",
       "      <td>33.0</td>\n",
       "      <td>0</td>\n",
       "      <td>0</td>\n",
       "    </tr>\n",
       "    <tr>\n",
       "      <th>...</th>\n",
       "      <td>...</td>\n",
       "      <td>...</td>\n",
       "      <td>...</td>\n",
       "      <td>...</td>\n",
       "      <td>...</td>\n",
       "      <td>...</td>\n",
       "      <td>...</td>\n",
       "      <td>...</td>\n",
       "      <td>...</td>\n",
       "      <td>...</td>\n",
       "      <td>...</td>\n",
       "      <td>...</td>\n",
       "      <td>...</td>\n",
       "      <td>...</td>\n",
       "      <td>...</td>\n",
       "      <td>...</td>\n",
       "      <td>...</td>\n",
       "      <td>...</td>\n",
       "      <td>...</td>\n",
       "      <td>...</td>\n",
       "      <td>...</td>\n",
       "    </tr>\n",
       "    <tr>\n",
       "      <th>3004</th>\n",
       "      <td>2017-06-21</td>\n",
       "      <td>MelbourneAirport</td>\n",
       "      <td>7.7</td>\n",
       "      <td>13.2</td>\n",
       "      <td>0.2</td>\n",
       "      <td>0.6</td>\n",
       "      <td>0.0</td>\n",
       "      <td>97.0</td>\n",
       "      <td>78.0</td>\n",
       "      <td>1029.1</td>\n",
       "      <td>...</td>\n",
       "      <td>N</td>\n",
       "      <td>37.0</td>\n",
       "      <td>W</td>\n",
       "      <td>S</td>\n",
       "      <td>9.0</td>\n",
       "      <td>13.0</td>\n",
       "      <td>N</td>\n",
       "      <td>37.0</td>\n",
       "      <td>0</td>\n",
       "      <td>0</td>\n",
       "    </tr>\n",
       "    <tr>\n",
       "      <th>3005</th>\n",
       "      <td>2017-06-22</td>\n",
       "      <td>MelbourneAirport</td>\n",
       "      <td>2.4</td>\n",
       "      <td>13.0</td>\n",
       "      <td>0.0</td>\n",
       "      <td>0.6</td>\n",
       "      <td>0.0</td>\n",
       "      <td>78.0</td>\n",
       "      <td>60.0</td>\n",
       "      <td>1028.6</td>\n",
       "      <td>...</td>\n",
       "      <td>N</td>\n",
       "      <td>39.0</td>\n",
       "      <td>N</td>\n",
       "      <td>N</td>\n",
       "      <td>17.0</td>\n",
       "      <td>19.0</td>\n",
       "      <td>N</td>\n",
       "      <td>39.0</td>\n",
       "      <td>0</td>\n",
       "      <td>0</td>\n",
       "    </tr>\n",
       "    <tr>\n",
       "      <th>3006</th>\n",
       "      <td>2017-06-23</td>\n",
       "      <td>MelbourneAirport</td>\n",
       "      <td>5.5</td>\n",
       "      <td>13.2</td>\n",
       "      <td>0.0</td>\n",
       "      <td>1.6</td>\n",
       "      <td>6.0</td>\n",
       "      <td>68.0</td>\n",
       "      <td>66.0</td>\n",
       "      <td>1018.7</td>\n",
       "      <td>...</td>\n",
       "      <td>N</td>\n",
       "      <td>57.0</td>\n",
       "      <td>NNW</td>\n",
       "      <td>N</td>\n",
       "      <td>19.0</td>\n",
       "      <td>35.0</td>\n",
       "      <td>N</td>\n",
       "      <td>57.0</td>\n",
       "      <td>0</td>\n",
       "      <td>1</td>\n",
       "    </tr>\n",
       "    <tr>\n",
       "      <th>3007</th>\n",
       "      <td>2017-06-24</td>\n",
       "      <td>MelbourneAirport</td>\n",
       "      <td>5.7</td>\n",
       "      <td>12.6</td>\n",
       "      <td>1.2</td>\n",
       "      <td>1.8</td>\n",
       "      <td>5.6</td>\n",
       "      <td>80.0</td>\n",
       "      <td>50.0</td>\n",
       "      <td>1018.9</td>\n",
       "      <td>...</td>\n",
       "      <td>SW</td>\n",
       "      <td>33.0</td>\n",
       "      <td>W</td>\n",
       "      <td>W</td>\n",
       "      <td>17.0</td>\n",
       "      <td>7.0</td>\n",
       "      <td>SW</td>\n",
       "      <td>33.0</td>\n",
       "      <td>1</td>\n",
       "      <td>0</td>\n",
       "    </tr>\n",
       "    <tr>\n",
       "      <th>3008</th>\n",
       "      <td>2017-06-25</td>\n",
       "      <td>MelbourneAirport</td>\n",
       "      <td>5.5</td>\n",
       "      <td>13.9</td>\n",
       "      <td>0.0</td>\n",
       "      <td>2.8</td>\n",
       "      <td>3.8</td>\n",
       "      <td>72.0</td>\n",
       "      <td>58.0</td>\n",
       "      <td>1017.8</td>\n",
       "      <td>...</td>\n",
       "      <td>NNW</td>\n",
       "      <td>44.0</td>\n",
       "      <td>N</td>\n",
       "      <td>NW</td>\n",
       "      <td>26.0</td>\n",
       "      <td>13.0</td>\n",
       "      <td>NNW</td>\n",
       "      <td>44.0</td>\n",
       "      <td>0</td>\n",
       "      <td>0</td>\n",
       "    </tr>\n",
       "  </tbody>\n",
       "</table>\n",
       "<p>3009 rows × 39 columns</p>\n",
       "</div>"
      ],
      "text/plain": [
       "            date          location  mintemp  maxtemp  rainfall  evaporation  \\\n",
       "0     2009-01-01  MelbourneAirport     11.2     19.9       0.0          5.6   \n",
       "1     2009-01-02  MelbourneAirport      7.8     17.8       1.2          7.2   \n",
       "2     2009-01-03  MelbourneAirport      6.3     21.1       0.0          6.2   \n",
       "3     2009-01-04  MelbourneAirport      8.1     29.2       0.0          6.4   \n",
       "4     2009-01-05  MelbourneAirport      9.7     29.0       0.0          7.4   \n",
       "...          ...               ...      ...      ...       ...          ...   \n",
       "3004  2017-06-21  MelbourneAirport      7.7     13.2       0.2          0.6   \n",
       "3005  2017-06-22  MelbourneAirport      2.4     13.0       0.0          0.6   \n",
       "3006  2017-06-23  MelbourneAirport      5.5     13.2       0.0          1.6   \n",
       "3007  2017-06-24  MelbourneAirport      5.7     12.6       1.2          1.8   \n",
       "3008  2017-06-25  MelbourneAirport      5.5     13.9       0.0          2.8   \n",
       "\n",
       "      sunshine  humidity9am  humidity3pm  pressure9am  ...  windgustdir  \\\n",
       "0          8.8         55.0         37.0       1005.1  ...          NaN   \n",
       "1         12.9         50.0         43.0       1018.0  ...          NaN   \n",
       "2         10.5         51.0         35.0       1020.8  ...          NaN   \n",
       "3         12.5         67.0         23.0       1016.2  ...          NaN   \n",
       "4         12.3         51.0         31.0       1011.9  ...          NaN   \n",
       "...        ...          ...          ...          ...  ...          ...   \n",
       "3004       0.0         97.0         78.0       1029.1  ...            N   \n",
       "3005       0.0         78.0         60.0       1028.6  ...            N   \n",
       "3006       6.0         68.0         66.0       1018.7  ...            N   \n",
       "3007       5.6         80.0         50.0       1018.9  ...           SW   \n",
       "3008       3.8         72.0         58.0       1017.8  ...          NNW   \n",
       "\n",
       "      windgustspeed  winddir9am  winddir3pm  windspeed9am windspeed3pm  \\\n",
       "0               NaN         NaN         NaN           NaN          NaN   \n",
       "1               NaN         NaN         NaN           NaN          NaN   \n",
       "2               NaN         NaN         NaN           NaN          NaN   \n",
       "3               NaN         NaN         NaN           NaN          NaN   \n",
       "4               NaN         NaN         NaN           NaN          NaN   \n",
       "...             ...         ...         ...           ...          ...   \n",
       "3004           37.0           W           S           9.0         13.0   \n",
       "3005           39.0           N           N          17.0         19.0   \n",
       "3006           57.0         NNW           N          19.0         35.0   \n",
       "3007           33.0           W           W          17.0          7.0   \n",
       "3008           44.0           N          NW          26.0         13.0   \n",
       "\n",
       "      wind_gustdir_complete wind_gustspeed_complete  raintoday_int  \\\n",
       "0                        SW                    69.0              0   \n",
       "1                       SSE                    56.0              1   \n",
       "2                       SSE                    31.0              0   \n",
       "3                       SSE                    35.0              0   \n",
       "4                        SE                    33.0              0   \n",
       "...                     ...                     ...            ...   \n",
       "3004                      N                    37.0              0   \n",
       "3005                      N                    39.0              0   \n",
       "3006                      N                    57.0              0   \n",
       "3007                     SW                    33.0              1   \n",
       "3008                    NNW                    44.0              0   \n",
       "\n",
       "      raintomorrow_int  \n",
       "0                    1  \n",
       "1                    0  \n",
       "2                    0  \n",
       "3                    0  \n",
       "4                    0  \n",
       "...                ...  \n",
       "3004                 0  \n",
       "3005                 0  \n",
       "3006                 1  \n",
       "3007                 0  \n",
       "3008                 0  \n",
       "\n",
       "[3009 rows x 39 columns]"
      ]
     },
     "execution_count": 4,
     "metadata": {},
     "output_type": "execute_result"
    }
   ],
   "source": [
    "# Filter the dataset\n",
    "df_ma = df.query('location == \"MelbourneAirport\"').reset_index(drop=True)\n",
    "\n",
    "# Check the dataset\n",
    "df_ma"
   ]
  },
  {
   "cell_type": "code",
   "execution_count": 50,
   "metadata": {
    "ExecuteTime": {
     "end_time": "2020-10-07T20:16:39.578166Z",
     "start_time": "2020-10-07T20:16:39.569186Z"
    }
   },
   "outputs": [
    {
     "data": {
      "text/plain": [
       "wind_dir9am                2187\n",
       "wind_gustdir               2181\n",
       "wind_gustspeed             2181\n",
       "wind_dir3pm                2179\n",
       "wind_speed9am              2177\n",
       "wind_speed3pm              2176\n",
       "winddir9am                  862\n",
       "winddir3pm                  843\n",
       "windgustspeed               843\n",
       "windgustdir                 843\n",
       "windspeed3pm                833\n",
       "windspeed9am                833\n",
       "wind_gustspeed_complete      15\n",
       "wind_gustdir_complete        15\n",
       "humidity3pm                   9\n",
       "humidity                      9\n",
       "humidity9am                   8\n",
       "evaporation                   3\n",
       "sunshine                      1\n",
       "cloud3pm                      1\n",
       "location                      0\n",
       "mintemp                       0\n",
       "maxtemp                       0\n",
       "rainfall                      0\n",
       "cloud9am                      0\n",
       "pressure9am                   0\n",
       "pressure3pm                   0\n",
       "raintomorrow_int              0\n",
       "temp9am                       0\n",
       "temp3pm                       0\n",
       "raintoday                     0\n",
       "amountOfRain                  0\n",
       "raintomorrow                  0\n",
       "temp                          0\n",
       "raintoday_int                 0\n",
       "precipitation3pm              0\n",
       "precipitation9am              0\n",
       "modelo_vigente                0\n",
       "date                          0\n",
       "dtype: int64"
      ]
     },
     "execution_count": 50,
     "metadata": {},
     "output_type": "execute_result"
    }
   ],
   "source": [
    "df_ma.isna().sum().sort_values(ascending=False)"
   ]
  },
  {
   "cell_type": "markdown",
   "metadata": {},
   "source": [
    "#### Create a Backup Dataframe"
   ]
  },
  {
   "cell_type": "code",
   "execution_count": 5,
   "metadata": {
    "ExecuteTime": {
     "end_time": "2020-10-07T15:28:25.776373Z",
     "start_time": "2020-10-07T15:28:25.770356Z"
    }
   },
   "outputs": [],
   "source": [
    "df_ma_bkp = df_ma.copy()"
   ]
  },
  {
   "cell_type": "markdown",
   "metadata": {},
   "source": [
    "Some observations from the Part 02:\n",
    "\n",
    "- `mintemp` (°C)\n",
    "  - Minimum: -1.000000\t\n",
    "  - Maximum: 30.50 - Too high\n",
    "- `maxtemp` (°C)\n",
    "  - Minimum: 8.400000\t\t\n",
    "  - Maximum: 46.80 - Too High\n",
    "- `temp` (°C)\n",
    "  - Minimum: 2.002276\t\t\n",
    "  - Maximum: 58.16 - Too High\n",
    "- `rainfall` (mm)\n",
    "  - Mean: 1.441999\n",
    "  - Maximum: 75.80\n",
    "- `humidity` (%)\n",
    "  - Minimum value: 2.001612\t\n",
    "  - Maximum value: 119.60 - Value higher than 100%\n",
    "- `evaporation` (mm)\n",
    "- `sunshine` (hours)\n",
    "- `wind_gustspeed_complete` (km/h)\n",
    "- `raintoday_int`\n",
    "  - Mean: 0.217712\n",
    "  - Standard Deviation: 0.412760\n",
    "- `raintomorrow_int`\n",
    "  - Mean: 0.216035\n",
    "  - Standard Deviation: 0.411607"
   ]
  },
  {
   "cell_type": "code",
   "execution_count": null,
   "metadata": {},
   "outputs": [],
   "source": []
  },
  {
   "cell_type": "code",
   "execution_count": null,
   "metadata": {},
   "outputs": [],
   "source": []
  },
  {
   "cell_type": "markdown",
   "metadata": {},
   "source": [
    "## Pipeline"
   ]
  },
  {
   "cell_type": "code",
   "execution_count": null,
   "metadata": {},
   "outputs": [],
   "source": []
  },
  {
   "cell_type": "code",
   "execution_count": 14,
   "metadata": {
    "ExecuteTime": {
     "end_time": "2020-10-07T15:34:59.661392Z",
     "start_time": "2020-10-07T15:34:59.657371Z"
    }
   },
   "outputs": [],
   "source": [
    "# Pipeline\n",
    "modeling = Pipeline(steps=[('scaler', StandardScaler()),\n",
    "                           ('logistic', LogisticRegression())],\n",
    "                    verbose=True)"
   ]
  },
  {
   "cell_type": "markdown",
   "metadata": {},
   "source": [
    "## Analysis 01"
   ]
  },
  {
   "cell_type": "markdown",
   "metadata": {},
   "source": [
    "For this first analysis, we will use only the features that influenced the most in the baseline model.\n",
    "\n",
    "- humidity\n",
    "- sunshine\n",
    "- wind speed\n",
    "- maximum temperature\n",
    "- evaporation"
   ]
  },
  {
   "cell_type": "markdown",
   "metadata": {},
   "source": [
    "### Exploratory Data Analysis (EAD)"
   ]
  },
  {
   "cell_type": "code",
   "execution_count": 8,
   "metadata": {
    "ExecuteTime": {
     "end_time": "2020-10-07T15:33:36.929470Z",
     "start_time": "2020-10-07T15:33:36.908497Z"
    }
   },
   "outputs": [
    {
     "data": {
      "text/html": [
       "<div>\n",
       "<style scoped>\n",
       "    .dataframe tbody tr th:only-of-type {\n",
       "        vertical-align: middle;\n",
       "    }\n",
       "\n",
       "    .dataframe tbody tr th {\n",
       "        vertical-align: top;\n",
       "    }\n",
       "\n",
       "    .dataframe thead th {\n",
       "        text-align: right;\n",
       "    }\n",
       "</style>\n",
       "<table border=\"1\" class=\"dataframe\">\n",
       "  <thead>\n",
       "    <tr style=\"text-align: right;\">\n",
       "      <th></th>\n",
       "      <th>raintoday</th>\n",
       "      <th>raintomorrow</th>\n",
       "      <th>mintemp</th>\n",
       "      <th>maxtemp</th>\n",
       "      <th>temp</th>\n",
       "      <th>rainfall</th>\n",
       "      <th>humidity</th>\n",
       "      <th>evaporation</th>\n",
       "      <th>sunshine</th>\n",
       "      <th>wind_gustspeed_complete</th>\n",
       "    </tr>\n",
       "  </thead>\n",
       "  <tbody>\n",
       "    <tr>\n",
       "      <th>0</th>\n",
       "      <td>No</td>\n",
       "      <td>Yes</td>\n",
       "      <td>11.2</td>\n",
       "      <td>19.9</td>\n",
       "      <td>25.880000</td>\n",
       "      <td>0.0</td>\n",
       "      <td>46.4</td>\n",
       "      <td>5.6</td>\n",
       "      <td>8.8</td>\n",
       "      <td>69.0</td>\n",
       "    </tr>\n",
       "    <tr>\n",
       "      <th>1</th>\n",
       "      <td>Yes</td>\n",
       "      <td>No</td>\n",
       "      <td>7.8</td>\n",
       "      <td>17.8</td>\n",
       "      <td>23.360000</td>\n",
       "      <td>1.2</td>\n",
       "      <td>53.6</td>\n",
       "      <td>7.2</td>\n",
       "      <td>12.9</td>\n",
       "      <td>56.0</td>\n",
       "    </tr>\n",
       "    <tr>\n",
       "      <th>2</th>\n",
       "      <td>No</td>\n",
       "      <td>No</td>\n",
       "      <td>6.3</td>\n",
       "      <td>21.1</td>\n",
       "      <td>2.705801</td>\n",
       "      <td>0.0</td>\n",
       "      <td>44.0</td>\n",
       "      <td>6.2</td>\n",
       "      <td>10.5</td>\n",
       "      <td>31.0</td>\n",
       "    </tr>\n",
       "    <tr>\n",
       "      <th>3</th>\n",
       "      <td>No</td>\n",
       "      <td>No</td>\n",
       "      <td>8.1</td>\n",
       "      <td>29.2</td>\n",
       "      <td>37.040000</td>\n",
       "      <td>0.0</td>\n",
       "      <td>29.6</td>\n",
       "      <td>6.4</td>\n",
       "      <td>12.5</td>\n",
       "      <td>35.0</td>\n",
       "    </tr>\n",
       "    <tr>\n",
       "      <th>4</th>\n",
       "      <td>No</td>\n",
       "      <td>No</td>\n",
       "      <td>9.7</td>\n",
       "      <td>29.0</td>\n",
       "      <td>36.800000</td>\n",
       "      <td>0.0</td>\n",
       "      <td>39.2</td>\n",
       "      <td>7.4</td>\n",
       "      <td>12.3</td>\n",
       "      <td>33.0</td>\n",
       "    </tr>\n",
       "    <tr>\n",
       "      <th>...</th>\n",
       "      <td>...</td>\n",
       "      <td>...</td>\n",
       "      <td>...</td>\n",
       "      <td>...</td>\n",
       "      <td>...</td>\n",
       "      <td>...</td>\n",
       "      <td>...</td>\n",
       "      <td>...</td>\n",
       "      <td>...</td>\n",
       "      <td>...</td>\n",
       "    </tr>\n",
       "    <tr>\n",
       "      <th>3004</th>\n",
       "      <td>No</td>\n",
       "      <td>No</td>\n",
       "      <td>7.7</td>\n",
       "      <td>13.2</td>\n",
       "      <td>17.840000</td>\n",
       "      <td>0.2</td>\n",
       "      <td>95.6</td>\n",
       "      <td>0.6</td>\n",
       "      <td>0.0</td>\n",
       "      <td>37.0</td>\n",
       "    </tr>\n",
       "    <tr>\n",
       "      <th>3005</th>\n",
       "      <td>No</td>\n",
       "      <td>No</td>\n",
       "      <td>2.4</td>\n",
       "      <td>13.0</td>\n",
       "      <td>17.600000</td>\n",
       "      <td>0.0</td>\n",
       "      <td>74.0</td>\n",
       "      <td>0.6</td>\n",
       "      <td>0.0</td>\n",
       "      <td>39.0</td>\n",
       "    </tr>\n",
       "    <tr>\n",
       "      <th>3006</th>\n",
       "      <td>No</td>\n",
       "      <td>Yes</td>\n",
       "      <td>5.5</td>\n",
       "      <td>13.2</td>\n",
       "      <td>17.840000</td>\n",
       "      <td>0.0</td>\n",
       "      <td>81.2</td>\n",
       "      <td>1.6</td>\n",
       "      <td>6.0</td>\n",
       "      <td>57.0</td>\n",
       "    </tr>\n",
       "    <tr>\n",
       "      <th>3007</th>\n",
       "      <td>Yes</td>\n",
       "      <td>No</td>\n",
       "      <td>5.7</td>\n",
       "      <td>12.6</td>\n",
       "      <td>17.120000</td>\n",
       "      <td>1.2</td>\n",
       "      <td>62.0</td>\n",
       "      <td>1.8</td>\n",
       "      <td>5.6</td>\n",
       "      <td>33.0</td>\n",
       "    </tr>\n",
       "    <tr>\n",
       "      <th>3008</th>\n",
       "      <td>No</td>\n",
       "      <td>No</td>\n",
       "      <td>5.5</td>\n",
       "      <td>13.9</td>\n",
       "      <td>18.680000</td>\n",
       "      <td>0.0</td>\n",
       "      <td>71.6</td>\n",
       "      <td>2.8</td>\n",
       "      <td>3.8</td>\n",
       "      <td>44.0</td>\n",
       "    </tr>\n",
       "  </tbody>\n",
       "</table>\n",
       "<p>3009 rows × 10 columns</p>\n",
       "</div>"
      ],
      "text/plain": [
       "     raintoday raintomorrow  mintemp  maxtemp       temp  rainfall  humidity  \\\n",
       "0           No          Yes     11.2     19.9  25.880000       0.0      46.4   \n",
       "1          Yes           No      7.8     17.8  23.360000       1.2      53.6   \n",
       "2           No           No      6.3     21.1   2.705801       0.0      44.0   \n",
       "3           No           No      8.1     29.2  37.040000       0.0      29.6   \n",
       "4           No           No      9.7     29.0  36.800000       0.0      39.2   \n",
       "...        ...          ...      ...      ...        ...       ...       ...   \n",
       "3004        No           No      7.7     13.2  17.840000       0.2      95.6   \n",
       "3005        No           No      2.4     13.0  17.600000       0.0      74.0   \n",
       "3006        No          Yes      5.5     13.2  17.840000       0.0      81.2   \n",
       "3007       Yes           No      5.7     12.6  17.120000       1.2      62.0   \n",
       "3008        No           No      5.5     13.9  18.680000       0.0      71.6   \n",
       "\n",
       "      evaporation  sunshine  wind_gustspeed_complete  \n",
       "0             5.6       8.8                     69.0  \n",
       "1             7.2      12.9                     56.0  \n",
       "2             6.2      10.5                     31.0  \n",
       "3             6.4      12.5                     35.0  \n",
       "4             7.4      12.3                     33.0  \n",
       "...           ...       ...                      ...  \n",
       "3004          0.6       0.0                     37.0  \n",
       "3005          0.6       0.0                     39.0  \n",
       "3006          1.6       6.0                     57.0  \n",
       "3007          1.8       5.6                     33.0  \n",
       "3008          2.8       3.8                     44.0  \n",
       "\n",
       "[3009 rows x 10 columns]"
      ]
     },
     "execution_count": 8,
     "metadata": {},
     "output_type": "execute_result"
    }
   ],
   "source": [
    "# Filter the dataset\n",
    "columns = ['raintoday', 'raintomorrow', 'mintemp', 'maxtemp', 'temp', 'rainfall', 'humidity', 'evaporation', \n",
    "           'sunshine', 'wind_gustspeed_complete']\n",
    "\n",
    "df_ma_f = df_ma[columns]\n",
    "df_ma_f"
   ]
  },
  {
   "cell_type": "code",
   "execution_count": 9,
   "metadata": {
    "ExecuteTime": {
     "end_time": "2020-10-07T15:33:38.987463Z",
     "start_time": "2020-10-07T15:33:38.978484Z"
    }
   },
   "outputs": [
    {
     "data": {
      "text/plain": [
       "wind_dir9am                2187\n",
       "wind_gustdir               2181\n",
       "wind_gustspeed             2181\n",
       "wind_dir3pm                2179\n",
       "wind_speed9am              2177\n",
       "wind_speed3pm              2176\n",
       "winddir9am                  862\n",
       "winddir3pm                  843\n",
       "windgustspeed               843\n",
       "windgustdir                 843\n",
       "windspeed3pm                833\n",
       "windspeed9am                833\n",
       "wind_gustspeed_complete      15\n",
       "wind_gustdir_complete        15\n",
       "humidity3pm                   9\n",
       "humidity                      9\n",
       "humidity9am                   8\n",
       "evaporation                   3\n",
       "sunshine                      1\n",
       "cloud3pm                      1\n",
       "location                      0\n",
       "mintemp                       0\n",
       "maxtemp                       0\n",
       "rainfall                      0\n",
       "cloud9am                      0\n",
       "pressure9am                   0\n",
       "pressure3pm                   0\n",
       "raintomorrow_int              0\n",
       "temp9am                       0\n",
       "temp3pm                       0\n",
       "raintoday                     0\n",
       "amountOfRain                  0\n",
       "raintomorrow                  0\n",
       "temp                          0\n",
       "raintoday_int                 0\n",
       "precipitation3pm              0\n",
       "precipitation9am              0\n",
       "modelo_vigente                0\n",
       "date                          0\n",
       "dtype: int64"
      ]
     },
     "execution_count": 9,
     "metadata": {},
     "output_type": "execute_result"
    }
   ],
   "source": [
    "# Check missing values\n",
    "df_ma.isna().sum().sort_values(ascending=False)"
   ]
  },
  {
   "cell_type": "code",
   "execution_count": 19,
   "metadata": {
    "ExecuteTime": {
     "end_time": "2020-10-07T15:15:11.359305Z",
     "start_time": "2020-10-07T15:15:11.354319Z"
    }
   },
   "outputs": [
    {
     "data": {
      "text/plain": [
       "0.9305417082087072"
      ]
     },
     "execution_count": 19,
     "metadata": {},
     "output_type": "execute_result"
    }
   ],
   "source": [
    "((15+9+3+1) / 3009) * 100"
   ]
  },
  {
   "cell_type": "code",
   "execution_count": 26,
   "metadata": {
    "ExecuteTime": {
     "end_time": "2020-10-07T15:20:39.302475Z",
     "start_time": "2020-10-07T15:20:39.298488Z"
    }
   },
   "outputs": [
    {
     "data": {
      "text/plain": [
       "2981"
      ]
     },
     "execution_count": 26,
     "metadata": {},
     "output_type": "execute_result"
    }
   ],
   "source": [
    "3009 - (15+9+3+1)"
   ]
  },
  {
   "cell_type": "markdown",
   "metadata": {},
   "source": [
    "Menos 1% dados faltando das variáveis citadas acima, então iremos remover estas linhas"
   ]
  },
  {
   "cell_type": "code",
   "execution_count": 10,
   "metadata": {
    "ExecuteTime": {
     "end_time": "2020-10-07T15:33:41.364172Z",
     "start_time": "2020-10-07T15:33:41.353201Z"
    }
   },
   "outputs": [
    {
     "data": {
      "text/plain": [
       "(2981, 39)"
      ]
     },
     "execution_count": 10,
     "metadata": {},
     "output_type": "execute_result"
    }
   ],
   "source": [
    "# Filter the dataset to remove missing values in the desired columns\n",
    "df_f = df_ma[~(df_ma['wind_gustspeed_complete'].isna()) & ~(df_ma['humidity'].isna()) & ~(df_ma['sunshine'].isna()) & ~(df_ma['evaporation'].isna())]\n",
    "\n",
    "# Check the resukt\n",
    "df_f.shape"
   ]
  },
  {
   "cell_type": "code",
   "execution_count": 11,
   "metadata": {
    "ExecuteTime": {
     "end_time": "2020-10-07T15:33:42.917047Z",
     "start_time": "2020-10-07T15:33:42.895595Z"
    }
   },
   "outputs": [
    {
     "data": {
      "text/html": [
       "<div>\n",
       "<style scoped>\n",
       "    .dataframe tbody tr th:only-of-type {\n",
       "        vertical-align: middle;\n",
       "    }\n",
       "\n",
       "    .dataframe tbody tr th {\n",
       "        vertical-align: top;\n",
       "    }\n",
       "\n",
       "    .dataframe thead th {\n",
       "        text-align: right;\n",
       "    }\n",
       "</style>\n",
       "<table border=\"1\" class=\"dataframe\">\n",
       "  <thead>\n",
       "    <tr style=\"text-align: right;\">\n",
       "      <th></th>\n",
       "      <th>raintoday_int</th>\n",
       "      <th>raintomorrow_int</th>\n",
       "      <th>maxtemp</th>\n",
       "      <th>humidity</th>\n",
       "      <th>evaporation</th>\n",
       "      <th>sunshine</th>\n",
       "      <th>wind_gustspeed_complete</th>\n",
       "    </tr>\n",
       "  </thead>\n",
       "  <tbody>\n",
       "    <tr>\n",
       "      <th>0</th>\n",
       "      <td>0</td>\n",
       "      <td>1</td>\n",
       "      <td>19.9</td>\n",
       "      <td>46.4</td>\n",
       "      <td>5.6</td>\n",
       "      <td>8.8</td>\n",
       "      <td>69.0</td>\n",
       "    </tr>\n",
       "    <tr>\n",
       "      <th>1</th>\n",
       "      <td>1</td>\n",
       "      <td>0</td>\n",
       "      <td>17.8</td>\n",
       "      <td>53.6</td>\n",
       "      <td>7.2</td>\n",
       "      <td>12.9</td>\n",
       "      <td>56.0</td>\n",
       "    </tr>\n",
       "    <tr>\n",
       "      <th>2</th>\n",
       "      <td>0</td>\n",
       "      <td>0</td>\n",
       "      <td>21.1</td>\n",
       "      <td>44.0</td>\n",
       "      <td>6.2</td>\n",
       "      <td>10.5</td>\n",
       "      <td>31.0</td>\n",
       "    </tr>\n",
       "    <tr>\n",
       "      <th>3</th>\n",
       "      <td>0</td>\n",
       "      <td>0</td>\n",
       "      <td>29.2</td>\n",
       "      <td>29.6</td>\n",
       "      <td>6.4</td>\n",
       "      <td>12.5</td>\n",
       "      <td>35.0</td>\n",
       "    </tr>\n",
       "    <tr>\n",
       "      <th>4</th>\n",
       "      <td>0</td>\n",
       "      <td>0</td>\n",
       "      <td>29.0</td>\n",
       "      <td>39.2</td>\n",
       "      <td>7.4</td>\n",
       "      <td>12.3</td>\n",
       "      <td>33.0</td>\n",
       "    </tr>\n",
       "    <tr>\n",
       "      <th>...</th>\n",
       "      <td>...</td>\n",
       "      <td>...</td>\n",
       "      <td>...</td>\n",
       "      <td>...</td>\n",
       "      <td>...</td>\n",
       "      <td>...</td>\n",
       "      <td>...</td>\n",
       "    </tr>\n",
       "    <tr>\n",
       "      <th>3004</th>\n",
       "      <td>0</td>\n",
       "      <td>0</td>\n",
       "      <td>13.2</td>\n",
       "      <td>95.6</td>\n",
       "      <td>0.6</td>\n",
       "      <td>0.0</td>\n",
       "      <td>37.0</td>\n",
       "    </tr>\n",
       "    <tr>\n",
       "      <th>3005</th>\n",
       "      <td>0</td>\n",
       "      <td>0</td>\n",
       "      <td>13.0</td>\n",
       "      <td>74.0</td>\n",
       "      <td>0.6</td>\n",
       "      <td>0.0</td>\n",
       "      <td>39.0</td>\n",
       "    </tr>\n",
       "    <tr>\n",
       "      <th>3006</th>\n",
       "      <td>0</td>\n",
       "      <td>1</td>\n",
       "      <td>13.2</td>\n",
       "      <td>81.2</td>\n",
       "      <td>1.6</td>\n",
       "      <td>6.0</td>\n",
       "      <td>57.0</td>\n",
       "    </tr>\n",
       "    <tr>\n",
       "      <th>3007</th>\n",
       "      <td>1</td>\n",
       "      <td>0</td>\n",
       "      <td>12.6</td>\n",
       "      <td>62.0</td>\n",
       "      <td>1.8</td>\n",
       "      <td>5.6</td>\n",
       "      <td>33.0</td>\n",
       "    </tr>\n",
       "    <tr>\n",
       "      <th>3008</th>\n",
       "      <td>0</td>\n",
       "      <td>0</td>\n",
       "      <td>13.9</td>\n",
       "      <td>71.6</td>\n",
       "      <td>2.8</td>\n",
       "      <td>3.8</td>\n",
       "      <td>44.0</td>\n",
       "    </tr>\n",
       "  </tbody>\n",
       "</table>\n",
       "<p>2981 rows × 7 columns</p>\n",
       "</div>"
      ],
      "text/plain": [
       "      raintoday_int  raintomorrow_int  maxtemp  humidity  evaporation  \\\n",
       "0                 0                 1     19.9      46.4          5.6   \n",
       "1                 1                 0     17.8      53.6          7.2   \n",
       "2                 0                 0     21.1      44.0          6.2   \n",
       "3                 0                 0     29.2      29.6          6.4   \n",
       "4                 0                 0     29.0      39.2          7.4   \n",
       "...             ...               ...      ...       ...          ...   \n",
       "3004              0                 0     13.2      95.6          0.6   \n",
       "3005              0                 0     13.0      74.0          0.6   \n",
       "3006              0                 1     13.2      81.2          1.6   \n",
       "3007              1                 0     12.6      62.0          1.8   \n",
       "3008              0                 0     13.9      71.6          2.8   \n",
       "\n",
       "      sunshine  wind_gustspeed_complete  \n",
       "0          8.8                     69.0  \n",
       "1         12.9                     56.0  \n",
       "2         10.5                     31.0  \n",
       "3         12.5                     35.0  \n",
       "4         12.3                     33.0  \n",
       "...        ...                      ...  \n",
       "3004       0.0                     37.0  \n",
       "3005       0.0                     39.0  \n",
       "3006       6.0                     57.0  \n",
       "3007       5.6                     33.0  \n",
       "3008       3.8                     44.0  \n",
       "\n",
       "[2981 rows x 7 columns]"
      ]
     },
     "execution_count": 11,
     "metadata": {},
     "output_type": "execute_result"
    }
   ],
   "source": [
    "# Desired Columns\n",
    "columns = ['raintoday_int', 'raintomorrow_int', 'maxtemp', 'humidity', 'evaporation', 'sunshine', 'wind_gustspeed_complete']\n",
    "\n",
    "# Filter the dataset\n",
    "df_f = df_f[columns]\n",
    "\n",
    "# Check the result\n",
    "df_f"
   ]
  },
  {
   "cell_type": "markdown",
   "metadata": {},
   "source": [
    "### Pipeline"
   ]
  },
  {
   "cell_type": "code",
   "execution_count": null,
   "metadata": {},
   "outputs": [],
   "source": [
    "# Pipeline\n",
    "modeling = Pipeline(steps=[('scaler', StandardScaler()),\n",
    "                           ('logistic', LogisticRegression())],\n",
    "                    verbose=True)"
   ]
  },
  {
   "cell_type": "markdown",
   "metadata": {},
   "source": [
    "### Setup for the Model"
   ]
  },
  {
   "cell_type": "code",
   "execution_count": 29,
   "metadata": {
    "ExecuteTime": {
     "end_time": "2020-10-07T15:38:58.716463Z",
     "start_time": "2020-10-07T15:38:58.713466Z"
    }
   },
   "outputs": [],
   "source": [
    "# Create Variables\n",
    "columns = ['maxtemp', 'humidity', 'evaporation', 'sunshine', 'wind_gustspeed_complete']\n",
    "\n",
    "X = df_f[columns]\n",
    "y = df_f['raintomorrow_int']"
   ]
  },
  {
   "cell_type": "code",
   "execution_count": 30,
   "metadata": {
    "ExecuteTime": {
     "end_time": "2020-10-07T15:38:59.947768Z",
     "start_time": "2020-10-07T15:38:59.939755Z"
    }
   },
   "outputs": [],
   "source": [
    "# Holdout\n",
    "# Split the dataset into trainnig and test sets\n",
    "X_train, X_test, y_train, y_test = train_test_split(X, y, test_size=.2, stratify=y, random_state=42)"
   ]
  },
  {
   "cell_type": "markdown",
   "metadata": {},
   "source": [
    "### Modeling"
   ]
  },
  {
   "cell_type": "code",
   "execution_count": 31,
   "metadata": {
    "ExecuteTime": {
     "end_time": "2020-10-07T15:39:01.231606Z",
     "start_time": "2020-10-07T15:39:01.209631Z"
    }
   },
   "outputs": [
    {
     "name": "stdout",
     "output_type": "stream",
     "text": [
      "[Pipeline] ............ (step 1 of 2) Processing scaler, total=   0.0s\n",
      "[Pipeline] .......... (step 2 of 2) Processing logistic, total=   0.0s\n"
     ]
    },
    {
     "data": {
      "text/plain": [
       "Pipeline(steps=[('scaler', StandardScaler()),\n",
       "                ('logistic', LogisticRegression())],\n",
       "         verbose=True)"
      ]
     },
     "execution_count": 31,
     "metadata": {},
     "output_type": "execute_result"
    }
   ],
   "source": [
    "# Train thr model\n",
    "modeling.fit(X_train, y_train)"
   ]
  },
  {
   "cell_type": "markdown",
   "metadata": {},
   "source": [
    "#### Result"
   ]
  },
  {
   "cell_type": "code",
   "execution_count": 32,
   "metadata": {
    "ExecuteTime": {
     "end_time": "2020-10-07T15:39:02.676608Z",
     "start_time": "2020-10-07T15:39:02.665638Z"
    }
   },
   "outputs": [
    {
     "data": {
      "text/html": [
       "<div>\n",
       "<style scoped>\n",
       "    .dataframe tbody tr th:only-of-type {\n",
       "        vertical-align: middle;\n",
       "    }\n",
       "\n",
       "    .dataframe tbody tr th {\n",
       "        vertical-align: top;\n",
       "    }\n",
       "\n",
       "    .dataframe thead th {\n",
       "        text-align: right;\n",
       "    }\n",
       "</style>\n",
       "<table border=\"1\" class=\"dataframe\">\n",
       "  <thead>\n",
       "    <tr style=\"text-align: right;\">\n",
       "      <th></th>\n",
       "      <th>feature</th>\n",
       "      <th>coefficient</th>\n",
       "    </tr>\n",
       "  </thead>\n",
       "  <tbody>\n",
       "    <tr>\n",
       "      <th>0</th>\n",
       "      <td>humidity</td>\n",
       "      <td>0.846398</td>\n",
       "    </tr>\n",
       "    <tr>\n",
       "      <th>1</th>\n",
       "      <td>wind_gustspeed_complete</td>\n",
       "      <td>0.745667</td>\n",
       "    </tr>\n",
       "    <tr>\n",
       "      <th>2</th>\n",
       "      <td>maxtemp</td>\n",
       "      <td>0.457151</td>\n",
       "    </tr>\n",
       "    <tr>\n",
       "      <th>3</th>\n",
       "      <td>evaporation</td>\n",
       "      <td>-0.092210</td>\n",
       "    </tr>\n",
       "    <tr>\n",
       "      <th>4</th>\n",
       "      <td>sunshine</td>\n",
       "      <td>-0.724979</td>\n",
       "    </tr>\n",
       "  </tbody>\n",
       "</table>\n",
       "</div>"
      ],
      "text/plain": [
       "                   feature  coefficient\n",
       "0                 humidity     0.846398\n",
       "1  wind_gustspeed_complete     0.745667\n",
       "2                  maxtemp     0.457151\n",
       "3              evaporation    -0.092210\n",
       "4                 sunshine    -0.724979"
      ]
     },
     "execution_count": 32,
     "metadata": {},
     "output_type": "execute_result"
    }
   ],
   "source": [
    "# Check the coefficients\n",
    "pd.DataFrame(zip(X_train.columns, modeling['logistic'].coef_.tolist()[0]), \n",
    "             columns=['feature', 'coefficient']).sort_values(by='coefficient', ascending=False).reset_index(drop=True)"
   ]
  },
  {
   "cell_type": "code",
   "execution_count": 33,
   "metadata": {
    "ExecuteTime": {
     "end_time": "2020-10-07T15:39:33.661292Z",
     "start_time": "2020-10-07T15:39:33.658299Z"
    }
   },
   "outputs": [
    {
     "data": {
      "text/plain": [
       "array([-1.73546661])"
      ]
     },
     "execution_count": 33,
     "metadata": {},
     "output_type": "execute_result"
    }
   ],
   "source": [
    "# Check the intercept\n",
    "modeling['logistic'].intercept_"
   ]
  },
  {
   "cell_type": "code",
   "execution_count": 35,
   "metadata": {
    "ExecuteTime": {
     "end_time": "2020-10-07T15:39:57.930497Z",
     "start_time": "2020-10-07T15:39:57.925516Z"
    }
   },
   "outputs": [
    {
     "data": {
      "text/plain": [
       "array([13])"
      ]
     },
     "execution_count": 35,
     "metadata": {},
     "output_type": "execute_result"
    }
   ],
   "source": [
    "# Number maximum of iterations\n",
    "modeling['logistic'].n_iter_"
   ]
  },
  {
   "cell_type": "markdown",
   "metadata": {},
   "source": [
    "#### Metrics"
   ]
  },
  {
   "cell_type": "code",
   "execution_count": 42,
   "metadata": {
    "ExecuteTime": {
     "end_time": "2020-10-07T15:50:44.851397Z",
     "start_time": "2020-10-07T15:50:44.811537Z"
    }
   },
   "outputs": [
    {
     "data": {
      "text/html": [
       "<div>\n",
       "<style scoped>\n",
       "    .dataframe tbody tr th:only-of-type {\n",
       "        vertical-align: middle;\n",
       "    }\n",
       "\n",
       "    .dataframe tbody tr th {\n",
       "        vertical-align: top;\n",
       "    }\n",
       "\n",
       "    .dataframe thead th {\n",
       "        text-align: right;\n",
       "    }\n",
       "</style>\n",
       "<table border=\"1\" class=\"dataframe\">\n",
       "  <thead>\n",
       "    <tr style=\"text-align: right;\">\n",
       "      <th></th>\n",
       "      <th>model</th>\n",
       "      <th>accuracy_train</th>\n",
       "      <th>accuracy_test</th>\n",
       "      <th>precision_train</th>\n",
       "      <th>precision_test</th>\n",
       "      <th>recall_train</th>\n",
       "      <th>recall_test</th>\n",
       "      <th>auc_train</th>\n",
       "      <th>auc_teste</th>\n",
       "    </tr>\n",
       "  </thead>\n",
       "  <tbody>\n",
       "    <tr>\n",
       "      <th>0</th>\n",
       "      <td>baseline</td>\n",
       "      <td>0.834732</td>\n",
       "      <td>0.824121</td>\n",
       "      <td>0.429796</td>\n",
       "      <td>0.441964</td>\n",
       "      <td>0.778641</td>\n",
       "      <td>0.767442</td>\n",
       "      <td>0.816052</td>\n",
       "      <td>0.823412</td>\n",
       "    </tr>\n",
       "  </tbody>\n",
       "</table>\n",
       "</div>"
      ],
      "text/plain": [
       "      model  accuracy_train  accuracy_test  precision_train  precision_test  \\\n",
       "0  baseline        0.834732       0.824121         0.429796        0.441964   \n",
       "\n",
       "   recall_train  recall_test  auc_train  auc_teste  \n",
       "0      0.778641     0.767442   0.816052   0.823412  "
      ]
     },
     "execution_count": 42,
     "metadata": {},
     "output_type": "execute_result"
    }
   ],
   "source": [
    "# Create a dataframe for the metrics\n",
    "df_metrics = pd.DataFrame(columns=['model', 'accuracy_train', 'accuracy_test',\n",
    "                                   'precision_train', 'precision_test', \n",
    "                                   'recall_train', 'recall_test', \n",
    "                                   'auc_train', 'auc_teste'])\n",
    "\n",
    "# Add row\n",
    "row_values = {'model': 'baseline',\n",
    "              \n",
    "              'accuracy_train': modeling.score(X=X_train, y=y_train),\n",
    "              'accuracy_test': modeling.score(X=X_test, y=y_test),\n",
    "              \n",
    "              'precision_train': precision_score(y_true=y_train, y_pred=modeling.predict_proba(X_train)[:, 1] > 0.2),\n",
    "              'precision_test': precision_score(y_true=y_test, y_pred=modeling.predict_proba(X_test)[:, 1] > 0.2),\n",
    "              \n",
    "              'recall_train': recall_score(y_true=y_train, y_pred=modeling.predict_proba(X_train)[:, 1] > 0.2),\n",
    "              'recall_test': recall_score(y_true=y_test, y_pred=modeling.predict_proba(X_test)[:, 1] > 0.2),\n",
    "              \n",
    "              'auc_train': roc_auc_score(y_true=y_train, y_score=modeling.predict_proba(X_train)[:, 1]),\n",
    "              'auc_teste': roc_auc_score(y_true=y_test, y_score=modeling.predict_proba(X_test)[:, 1])}\n",
    "\n",
    "df_metrics = df_metrics.append(row_values, ignore_index=True)\n",
    "\n",
    "# Check the result\n",
    "df_metrics"
   ]
  },
  {
   "cell_type": "code",
   "execution_count": 46,
   "metadata": {
    "ExecuteTime": {
     "end_time": "2020-10-07T15:52:05.935492Z",
     "start_time": "2020-10-07T15:52:05.771956Z"
    }
   },
   "outputs": [
    {
     "data": {
      "image/png": "[encoded data removed]",
      "text/plain": [
       "<Figure size 720x432 with 1 Axes>"
      ]
     },
     "metadata": {
      "needs_background": "light"
     },
     "output_type": "display_data"
    }
   ],
   "source": [
    "fig, ax = plt.subplots(figsize=(10,6))\n",
    "\n",
    "plot_roc_curve(estimator=modeling, X=X_train, y=y_train, ax=ax, name='Train')\n",
    "plot_roc_curve(estimator=modeling, X=X_test, y=y_test, ax=ax, name='Test');"
   ]
  },
  {
   "cell_type": "code",
   "execution_count": null,
   "metadata": {},
   "outputs": [],
   "source": []
  },
  {
   "cell_type": "code",
   "execution_count": null,
   "metadata": {},
   "outputs": [],
   "source": []
  },
  {
   "cell_type": "code",
   "execution_count": null,
   "metadata": {},
   "outputs": [],
   "source": []
  },
  {
   "cell_type": "code",
   "execution_count": null,
   "metadata": {},
   "outputs": [],
   "source": []
  },
  {
   "cell_type": "code",
   "execution_count": null,
   "metadata": {},
   "outputs": [],
   "source": []
  },
  {
   "cell_type": "code",
   "execution_count": null,
   "metadata": {},
   "outputs": [],
   "source": []
  },
  {
   "cell_type": "code",
   "execution_count": null,
   "metadata": {},
   "outputs": [],
   "source": []
  },
  {
   "cell_type": "code",
   "execution_count": null,
   "metadata": {},
   "outputs": [],
   "source": []
  },
  {
   "cell_type": "code",
   "execution_count": null,
   "metadata": {},
   "outputs": [],
   "source": []
  },
  {
   "cell_type": "code",
   "execution_count": null,
   "metadata": {},
   "outputs": [],
   "source": []
  },
  {
   "cell_type": "code",
   "execution_count": null,
   "metadata": {},
   "outputs": [],
   "source": []
  },
  {
   "cell_type": "code",
   "execution_count": null,
   "metadata": {},
   "outputs": [],
   "source": []
  },
  {
   "cell_type": "code",
   "execution_count": null,
   "metadata": {},
   "outputs": [],
   "source": []
  },
  {
   "cell_type": "code",
   "execution_count": null,
   "metadata": {},
   "outputs": [],
   "source": []
  },
  {
   "cell_type": "code",
   "execution_count": null,
   "metadata": {},
   "outputs": [],
   "source": []
  },
  {
   "cell_type": "code",
   "execution_count": null,
   "metadata": {},
   "outputs": [],
   "source": []
  }
 ],
 "metadata": {
  "hide_input": false,
  "kernelspec": {
   "display_name": "Python 3",
   "language": "python",
   "name": "python3"
  },
  "language_info": {
   "codemirror_mode": {
    "name": "ipython",
    "version": 3
   },
   "file_extension": ".py",
   "mimetype": "text/x-python",
   "name": "python",
   "nbconvert_exporter": "python",
   "pygments_lexer": "ipython3",
   "version": "3.8.3"
  },
  "toc": {
   "base_numbering": 1,
   "nav_menu": {},
   "number_sections": true,
   "sideBar": true,
   "skip_h1_title": false,
   "title_cell": "Table of Contents",
   "title_sidebar": "Contents",
   "toc_cell": false,
   "toc_position": {},
   "toc_section_display": true,
   "toc_window_display": true
  },
  "varInspector": {
   "cols": {
    "lenName": 16,
    "lenType": 16,
    "lenVar": 40
   },
   "kernels_config": {
    "python": {
     "delete_cmd_postfix": "",
     "delete_cmd_prefix": "del ",
     "library": "var_list.py",
     "varRefreshCmd": "print(var_dic_list())"
    },
    "r": {
     "delete_cmd_postfix": ") ",
     "delete_cmd_prefix": "rm(",
     "library": "var_list.r",
     "varRefreshCmd": "cat(var_dic_list()) "
    }
   },
   "types_to_exclude": [
    "module",
    "function",
    "builtin_function_or_method",
    "instance",
    "_Feature"
   ],
   "window_display": false
  }
 },
 "nbformat": 4,
 "nbformat_minor": 4
}
