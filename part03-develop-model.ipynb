{
 "cells": [
  {
   "cell_type": "markdown",
   "metadata": {},
   "source": [
    "# Introduction"
   ]
  },
  {
   "cell_type": "markdown",
   "metadata": {},
   "source": [
    "> **Will it rain tomorrow?**\n",
    "\n",
    "That is the question we will try to answer in this project, practicing machine learning.\n",
    "\n",
    "## Context\n",
    "\n",
    "A vacation of a group of friends is about to start and they will arrive at the Melbourne Airport tomorrow. They rented a place near the airport and they want to go on foot to the rented place to save money in the beginning of their trip. But, if it is raining, they will have to go there using a mean of transportation, since they do not want to get wet. So, they want to know if it is going to rain tomorrow around the Melbourne Airport to know if they need to schedule a shuttle bus to take them to the rented place.\n",
    "\n",
    "---\n",
    "\n",
    "### Project Objective\n",
    "\n",
    "> **Find if it will tomorrow around the Melbourne Airport.**\n",
    "\n",
    "---\n",
    "\n",
    "## Process\n",
    "\n",
    "This project will be divided into 3 parts:\n",
    "\n",
    "1. Initial Analysis of the Variables\n",
    "2. Baseline\n",
    "3. **Development of the Machine Learning Model**\n"
   ]
  },
  {
   "cell_type": "markdown",
   "metadata": {},
   "source": [
    "# Part 03 | Development of the Machine Learning Model\n",
    "\n",
    "---\n",
    "\n",
    "\n",
    "## Specific Objective\n",
    "\n",
    "> **Develop the Final Logistic Regression Model**\n",
    "\n",
    "---\n",
    "\n",
    "\n",
    "## Premises\n",
    "\n",
    "- The location is the **Melbourne Airport**.\n",
    "- Today is **25/06/2017**.\n",
    "- Right now is **nighttime**. Therefore, **not all features are available right now**.\n",
    "- The features available are:\n",
    "  - Maximum temperature\n",
    "  - Evaporation\n",
    "  - Sunshine\n",
    "  - Rain Today\n",
    "  - Rain Tomorrow\n",
    "  - All the other variables that were measured at 9 AM and 3 PM\n"
   ]
  },
  {
   "cell_type": "markdown",
   "metadata": {},
   "source": [
    "## Setup"
   ]
  },
  {
   "cell_type": "markdown",
   "metadata": {},
   "source": [
    "### Import libraries"
   ]
  },
  {
   "cell_type": "code",
   "execution_count": 1,
   "metadata": {
    "ExecuteTime": {
     "end_time": "2020-10-09T12:13:01.658657Z",
     "start_time": "2020-10-09T12:12:09.913821Z"
    }
   },
   "outputs": [
    {
     "name": "stderr",
     "output_type": "stream",
     "text": [
      "C:\\Users\\Leticia\\anaconda3\\lib\\site-packages\\sklearn\\utils\\deprecation.py:143: FutureWarning: The sklearn.metrics.classification module is  deprecated in version 0.22 and will be removed in version 0.24. The corresponding classes / functions should instead be imported from sklearn.metrics. Anything that cannot be imported from sklearn.metrics is now part of the private API.\n",
      "  warnings.warn(message, FutureWarning)\n"
     ]
    }
   ],
   "source": [
    "import numpy as np\n",
    "import pandas as pd\n",
    "import seaborn as sns\n",
    "import matplotlib.pyplot as plt\n",
    "\n",
    "from sklearn.linear_model import LogisticRegression\n",
    "from sklearn.metrics import confusion_matrix, precision_score, recall_score, roc_curve, roc_auc_score, precision_recall_curve, plot_roc_curve, plot_precision_recall_curve\n",
    "from sklearn.preprocessing import StandardScaler\n",
    "from yellowbrick.features import RFECV\n",
    "from scipy.stats import uniform, gamma, beta, randint\n",
    "from sklearn.model_selection import RandomizedSearchCV\n",
    "\n",
    "from sklearn.impute import SimpleImputer\n",
    "from sklearn.preprocessing import OneHotEncoder, OrdinalEncoder\n",
    "from sklearn.linear_model import LogisticRegression\n",
    "from sklearn.model_selection import TimeSeriesSplit\n",
    "\n",
    "from sklearn.model_selection import StratifiedKFold"
   ]
  },
  {
   "cell_type": "markdown",
   "metadata": {},
   "source": [
    "### Import the Dataset"
   ]
  },
  {
   "cell_type": "code",
   "execution_count": 2,
   "metadata": {
    "ExecuteTime": {
     "end_time": "2020-10-09T12:13:01.754728Z",
     "start_time": "2020-10-09T12:13:01.663629Z"
    }
   },
   "outputs": [],
   "source": [
    "# Import the dataset (Melborne already filtered)\n",
    "df_ma = pd.read_csv('exported_df/complete_dataset.csv')"
   ]
  },
  {
   "cell_type": "markdown",
   "metadata": {},
   "source": [
    "### Exploratory Data Analysis (EAD)"
   ]
  },
  {
   "cell_type": "code",
   "execution_count": 3,
   "metadata": {
    "ExecuteTime": {
     "end_time": "2020-10-09T12:13:02.035110Z",
     "start_time": "2020-10-09T12:13:01.759725Z"
    }
   },
   "outputs": [
    {
     "data": {
      "text/plain": [
       "Index(['date', 'location', 'maxtemp', 'evaporation_final', 'sunshine_final',\n",
       "       'humidity9am_final', 'humidity3pm_final', 'pressure9am', 'pressure3pm',\n",
       "       'cloud9am', 'cloud3pm_final', 'temp9am', 'temp3pm', 'precipitation3pm',\n",
       "       'precipitation9am', 'wind_speed9am_complete_final',\n",
       "       'wind_speed3pm_complete', 'wind_dir9am_complete_final_int',\n",
       "       'wind_dir3pm_complete_final_int', 'raintoday_int', 'raintomorrow_int'],\n",
       "      dtype='object')"
      ]
     },
     "execution_count": 3,
     "metadata": {},
     "output_type": "execute_result"
    }
   ],
   "source": [
    "df_ma.columns"
   ]
  },
  {
   "cell_type": "code",
   "execution_count": 4,
   "metadata": {
    "ExecuteTime": {
     "end_time": "2020-10-09T12:13:02.570509Z",
     "start_time": "2020-10-09T12:13:02.045118Z"
    }
   },
   "outputs": [
    {
     "data": {
      "text/html": [
       "<div>\n",
       "<style scoped>\n",
       "    .dataframe tbody tr th:only-of-type {\n",
       "        vertical-align: middle;\n",
       "    }\n",
       "\n",
       "    .dataframe tbody tr th {\n",
       "        vertical-align: top;\n",
       "    }\n",
       "\n",
       "    .dataframe thead th {\n",
       "        text-align: right;\n",
       "    }\n",
       "</style>\n",
       "<table border=\"1\" class=\"dataframe\">\n",
       "  <thead>\n",
       "    <tr style=\"text-align: right;\">\n",
       "      <th></th>\n",
       "      <th>count</th>\n",
       "      <th>mean</th>\n",
       "      <th>std</th>\n",
       "      <th>min</th>\n",
       "      <th>25%</th>\n",
       "      <th>50%</th>\n",
       "      <th>75%</th>\n",
       "      <th>max</th>\n",
       "    </tr>\n",
       "  </thead>\n",
       "  <tbody>\n",
       "    <tr>\n",
       "      <th>maxtemp</th>\n",
       "      <td>2947.0</td>\n",
       "      <td>20.519477</td>\n",
       "      <td>6.639235</td>\n",
       "      <td>8.400000</td>\n",
       "      <td>15.300000</td>\n",
       "      <td>19.200000</td>\n",
       "      <td>24.600000</td>\n",
       "      <td>46.800000</td>\n",
       "    </tr>\n",
       "    <tr>\n",
       "      <th>evaporation_final</th>\n",
       "      <td>2947.0</td>\n",
       "      <td>4.659654</td>\n",
       "      <td>3.321630</td>\n",
       "      <td>0.000000</td>\n",
       "      <td>2.200000</td>\n",
       "      <td>4.000000</td>\n",
       "      <td>6.400000</td>\n",
       "      <td>23.800000</td>\n",
       "    </tr>\n",
       "    <tr>\n",
       "      <th>sunshine_final</th>\n",
       "      <td>2947.0</td>\n",
       "      <td>6.419104</td>\n",
       "      <td>3.902773</td>\n",
       "      <td>0.000000</td>\n",
       "      <td>3.100000</td>\n",
       "      <td>6.600000</td>\n",
       "      <td>9.600000</td>\n",
       "      <td>13.900000</td>\n",
       "    </tr>\n",
       "    <tr>\n",
       "      <th>humidity9am_final</th>\n",
       "      <td>2947.0</td>\n",
       "      <td>69.969121</td>\n",
       "      <td>15.659936</td>\n",
       "      <td>11.000000</td>\n",
       "      <td>61.000000</td>\n",
       "      <td>71.000000</td>\n",
       "      <td>81.000000</td>\n",
       "      <td>100.000000</td>\n",
       "    </tr>\n",
       "    <tr>\n",
       "      <th>humidity3pm_final</th>\n",
       "      <td>2947.0</td>\n",
       "      <td>51.014252</td>\n",
       "      <td>17.793389</td>\n",
       "      <td>7.000000</td>\n",
       "      <td>40.000000</td>\n",
       "      <td>50.000000</td>\n",
       "      <td>62.000000</td>\n",
       "      <td>98.000000</td>\n",
       "    </tr>\n",
       "    <tr>\n",
       "      <th>pressure9am</th>\n",
       "      <td>2947.0</td>\n",
       "      <td>1018.037089</td>\n",
       "      <td>7.666151</td>\n",
       "      <td>989.700000</td>\n",
       "      <td>1013.100000</td>\n",
       "      <td>1018.200000</td>\n",
       "      <td>1023.200000</td>\n",
       "      <td>1039.300000</td>\n",
       "    </tr>\n",
       "    <tr>\n",
       "      <th>pressure3pm</th>\n",
       "      <td>2947.0</td>\n",
       "      <td>1016.236003</td>\n",
       "      <td>7.518912</td>\n",
       "      <td>988.200000</td>\n",
       "      <td>1011.300000</td>\n",
       "      <td>1016.600000</td>\n",
       "      <td>1021.400000</td>\n",
       "      <td>1036.000000</td>\n",
       "    </tr>\n",
       "    <tr>\n",
       "      <th>cloud9am</th>\n",
       "      <td>2947.0</td>\n",
       "      <td>5.238887</td>\n",
       "      <td>2.534074</td>\n",
       "      <td>0.000000</td>\n",
       "      <td>3.000000</td>\n",
       "      <td>7.000000</td>\n",
       "      <td>7.000000</td>\n",
       "      <td>8.000000</td>\n",
       "    </tr>\n",
       "    <tr>\n",
       "      <th>cloud3pm_final</th>\n",
       "      <td>2947.0</td>\n",
       "      <td>5.258229</td>\n",
       "      <td>2.361614</td>\n",
       "      <td>0.000000</td>\n",
       "      <td>3.000000</td>\n",
       "      <td>6.000000</td>\n",
       "      <td>7.000000</td>\n",
       "      <td>8.000000</td>\n",
       "    </tr>\n",
       "    <tr>\n",
       "      <th>temp9am</th>\n",
       "      <td>2947.0</td>\n",
       "      <td>14.142043</td>\n",
       "      <td>4.905283</td>\n",
       "      <td>3.300000</td>\n",
       "      <td>10.600000</td>\n",
       "      <td>13.500000</td>\n",
       "      <td>16.800000</td>\n",
       "      <td>35.400000</td>\n",
       "    </tr>\n",
       "    <tr>\n",
       "      <th>temp3pm</th>\n",
       "      <td>2947.0</td>\n",
       "      <td>18.978487</td>\n",
       "      <td>6.436939</td>\n",
       "      <td>6.200000</td>\n",
       "      <td>14.000000</td>\n",
       "      <td>17.800000</td>\n",
       "      <td>22.850000</td>\n",
       "      <td>46.100000</td>\n",
       "    </tr>\n",
       "    <tr>\n",
       "      <th>precipitation3pm</th>\n",
       "      <td>2947.0</td>\n",
       "      <td>9.955209</td>\n",
       "      <td>3.179624</td>\n",
       "      <td>0.000000</td>\n",
       "      <td>8.000000</td>\n",
       "      <td>10.000000</td>\n",
       "      <td>12.000000</td>\n",
       "      <td>21.000000</td>\n",
       "    </tr>\n",
       "    <tr>\n",
       "      <th>precipitation9am</th>\n",
       "      <td>2947.0</td>\n",
       "      <td>10.010110</td>\n",
       "      <td>5.038213</td>\n",
       "      <td>-11.023931</td>\n",
       "      <td>6.715809</td>\n",
       "      <td>9.947282</td>\n",
       "      <td>13.371421</td>\n",
       "      <td>30.174273</td>\n",
       "    </tr>\n",
       "    <tr>\n",
       "      <th>wind_speed9am_complete_final</th>\n",
       "      <td>2947.0</td>\n",
       "      <td>20.486257</td>\n",
       "      <td>11.507195</td>\n",
       "      <td>0.000000</td>\n",
       "      <td>11.000000</td>\n",
       "      <td>19.000000</td>\n",
       "      <td>28.000000</td>\n",
       "      <td>67.000000</td>\n",
       "    </tr>\n",
       "    <tr>\n",
       "      <th>wind_speed3pm_complete</th>\n",
       "      <td>2947.0</td>\n",
       "      <td>23.230064</td>\n",
       "      <td>9.806790</td>\n",
       "      <td>0.000000</td>\n",
       "      <td>17.000000</td>\n",
       "      <td>22.000000</td>\n",
       "      <td>30.000000</td>\n",
       "      <td>76.000000</td>\n",
       "    </tr>\n",
       "    <tr>\n",
       "      <th>wind_dir9am_complete_final_int</th>\n",
       "      <td>2947.0</td>\n",
       "      <td>6.336274</td>\n",
       "      <td>5.407236</td>\n",
       "      <td>0.000000</td>\n",
       "      <td>0.000000</td>\n",
       "      <td>8.000000</td>\n",
       "      <td>11.000000</td>\n",
       "      <td>15.000000</td>\n",
       "    </tr>\n",
       "    <tr>\n",
       "      <th>wind_dir3pm_complete_final_int</th>\n",
       "      <td>2947.0</td>\n",
       "      <td>7.287411</td>\n",
       "      <td>4.543580</td>\n",
       "      <td>0.000000</td>\n",
       "      <td>5.000000</td>\n",
       "      <td>8.000000</td>\n",
       "      <td>10.000000</td>\n",
       "      <td>15.000000</td>\n",
       "    </tr>\n",
       "    <tr>\n",
       "      <th>raintoday_int</th>\n",
       "      <td>2947.0</td>\n",
       "      <td>0.218188</td>\n",
       "      <td>0.413086</td>\n",
       "      <td>0.000000</td>\n",
       "      <td>0.000000</td>\n",
       "      <td>0.000000</td>\n",
       "      <td>0.000000</td>\n",
       "      <td>1.000000</td>\n",
       "    </tr>\n",
       "    <tr>\n",
       "      <th>raintomorrow_int</th>\n",
       "      <td>2947.0</td>\n",
       "      <td>0.217170</td>\n",
       "      <td>0.412389</td>\n",
       "      <td>0.000000</td>\n",
       "      <td>0.000000</td>\n",
       "      <td>0.000000</td>\n",
       "      <td>0.000000</td>\n",
       "      <td>1.000000</td>\n",
       "    </tr>\n",
       "  </tbody>\n",
       "</table>\n",
       "</div>"
      ],
      "text/plain": [
       "                                 count         mean        std         min  \\\n",
       "maxtemp                         2947.0    20.519477   6.639235    8.400000   \n",
       "evaporation_final               2947.0     4.659654   3.321630    0.000000   \n",
       "sunshine_final                  2947.0     6.419104   3.902773    0.000000   \n",
       "humidity9am_final               2947.0    69.969121  15.659936   11.000000   \n",
       "humidity3pm_final               2947.0    51.014252  17.793389    7.000000   \n",
       "pressure9am                     2947.0  1018.037089   7.666151  989.700000   \n",
       "pressure3pm                     2947.0  1016.236003   7.518912  988.200000   \n",
       "cloud9am                        2947.0     5.238887   2.534074    0.000000   \n",
       "cloud3pm_final                  2947.0     5.258229   2.361614    0.000000   \n",
       "temp9am                         2947.0    14.142043   4.905283    3.300000   \n",
       "temp3pm                         2947.0    18.978487   6.436939    6.200000   \n",
       "precipitation3pm                2947.0     9.955209   3.179624    0.000000   \n",
       "precipitation9am                2947.0    10.010110   5.038213  -11.023931   \n",
       "wind_speed9am_complete_final    2947.0    20.486257  11.507195    0.000000   \n",
       "wind_speed3pm_complete          2947.0    23.230064   9.806790    0.000000   \n",
       "wind_dir9am_complete_final_int  2947.0     6.336274   5.407236    0.000000   \n",
       "wind_dir3pm_complete_final_int  2947.0     7.287411   4.543580    0.000000   \n",
       "raintoday_int                   2947.0     0.218188   0.413086    0.000000   \n",
       "raintomorrow_int                2947.0     0.217170   0.412389    0.000000   \n",
       "\n",
       "                                        25%          50%          75%  \\\n",
       "maxtemp                           15.300000    19.200000    24.600000   \n",
       "evaporation_final                  2.200000     4.000000     6.400000   \n",
       "sunshine_final                     3.100000     6.600000     9.600000   \n",
       "humidity9am_final                 61.000000    71.000000    81.000000   \n",
       "humidity3pm_final                 40.000000    50.000000    62.000000   \n",
       "pressure9am                     1013.100000  1018.200000  1023.200000   \n",
       "pressure3pm                     1011.300000  1016.600000  1021.400000   \n",
       "cloud9am                           3.000000     7.000000     7.000000   \n",
       "cloud3pm_final                     3.000000     6.000000     7.000000   \n",
       "temp9am                           10.600000    13.500000    16.800000   \n",
       "temp3pm                           14.000000    17.800000    22.850000   \n",
       "precipitation3pm                   8.000000    10.000000    12.000000   \n",
       "precipitation9am                   6.715809     9.947282    13.371421   \n",
       "wind_speed9am_complete_final      11.000000    19.000000    28.000000   \n",
       "wind_speed3pm_complete            17.000000    22.000000    30.000000   \n",
       "wind_dir9am_complete_final_int     0.000000     8.000000    11.000000   \n",
       "wind_dir3pm_complete_final_int     5.000000     8.000000    10.000000   \n",
       "raintoday_int                      0.000000     0.000000     0.000000   \n",
       "raintomorrow_int                   0.000000     0.000000     0.000000   \n",
       "\n",
       "                                        max  \n",
       "maxtemp                           46.800000  \n",
       "evaporation_final                 23.800000  \n",
       "sunshine_final                    13.900000  \n",
       "humidity9am_final                100.000000  \n",
       "humidity3pm_final                 98.000000  \n",
       "pressure9am                     1039.300000  \n",
       "pressure3pm                     1036.000000  \n",
       "cloud9am                           8.000000  \n",
       "cloud3pm_final                     8.000000  \n",
       "temp9am                           35.400000  \n",
       "temp3pm                           46.100000  \n",
       "precipitation3pm                  21.000000  \n",
       "precipitation9am                  30.174273  \n",
       "wind_speed9am_complete_final      67.000000  \n",
       "wind_speed3pm_complete            76.000000  \n",
       "wind_dir9am_complete_final_int    15.000000  \n",
       "wind_dir3pm_complete_final_int    15.000000  \n",
       "raintoday_int                      1.000000  \n",
       "raintomorrow_int                   1.000000  "
      ]
     },
     "execution_count": 4,
     "metadata": {},
     "output_type": "execute_result"
    }
   ],
   "source": [
    "df_ma.describe().T"
   ]
  },
  {
   "cell_type": "markdown",
   "metadata": {
    "ExecuteTime": {
     "end_time": "2020-10-08T19:57:10.667579Z",
     "start_time": "2020-10-08T19:57:10.644616Z"
    }
   },
   "source": [
    "Some observations about the data:\n",
    "\n",
    "- `maxtemp` (°C)\n",
    "  - Minimum: 8.400000\n",
    "  - Maximum: 46.80 - Too High<br>\n",
    "    But this information it's true: http://www.bom.gov.au/climate/averages/tables/cw_086282.shtml\n",
    "    \n",
    "    <br>\n",
    "\n",
    "- `precipitation9am`(mm)\n",
    "  - Minimum: 30.174273\n",
    "  - Maximum: -11.023931 - it's strange a precipitation value negative.<br>\n",
    "  "
   ]
  },
  {
   "cell_type": "markdown",
   "metadata": {},
   "source": [
    "#### Removing precipitation negative"
   ]
  },
  {
   "cell_type": "code",
   "execution_count": 5,
   "metadata": {
    "ExecuteTime": {
     "end_time": "2020-10-09T12:13:03.127922Z",
     "start_time": "2020-10-09T12:13:02.582502Z"
    }
   },
   "outputs": [
    {
     "name": "stdout",
     "output_type": "stream",
     "text": [
      "Shape of precipitation9am: 2947\n",
      "Quantidade de linhas com precipitation negativa: 74\n",
      "Porcentagem de linhas dropadas:\n"
     ]
    }
   ],
   "source": [
    "#Análise da precipitação negativa de 9am:\n",
    "print('Shape of precipitation9am:',df_ma['precipitation9am'].shape[0])\n",
    "\n",
    "print('Quantidade de linhas com precipitation negativa:',df_ma.loc[df_ma['precipitation9am']<0].shape[0])\n",
    "\n",
    "percentage = (df_ma.loc[df_ma['precipitation9am']<0].shape[0])/(df_ma['precipitation9am'].shape[0])\n",
    "print('Porcentagem de linhas dropadas:',)"
   ]
  },
  {
   "cell_type": "code",
   "execution_count": 6,
   "metadata": {
    "ExecuteTime": {
     "end_time": "2020-10-09T12:13:03.173892Z",
     "start_time": "2020-10-09T12:13:03.138911Z"
    }
   },
   "outputs": [],
   "source": [
    "#Drop das linhas:\n",
    "df_ma.drop(df_ma.loc[df_ma['precipitation9am']<0,'precipitation9am'].index, inplace=True)"
   ]
  },
  {
   "cell_type": "code",
   "execution_count": 7,
   "metadata": {
    "ExecuteTime": {
     "end_time": "2020-10-09T12:13:03.378513Z",
     "start_time": "2020-10-09T12:13:03.187890Z"
    }
   },
   "outputs": [
    {
     "name": "stdout",
     "output_type": "stream",
     "text": [
      "Nova quantidade de linhas: 2873\n"
     ]
    }
   ],
   "source": [
    "#Nova Quantidade de linhas do DataSet\n",
    "print('Nova quantidade de linhas:',df_ma.shape[0])"
   ]
  },
  {
   "cell_type": "markdown",
   "metadata": {},
   "source": [
    "## Feature Selection"
   ]
  },
  {
   "cell_type": "markdown",
   "metadata": {},
   "source": [
    "Applying the `Recursive Feature Elimination in Yellowbricks` method to find out the most relevant features."
   ]
  },
  {
   "cell_type": "markdown",
   "metadata": {},
   "source": [
    "###  Select columns"
   ]
  },
  {
   "cell_type": "code",
   "execution_count": 8,
   "metadata": {
    "ExecuteTime": {
     "end_time": "2020-10-09T12:13:03.609440Z",
     "start_time": "2020-10-09T12:13:03.399503Z"
    }
   },
   "outputs": [],
   "source": [
    "# Select columns:\n",
    "#All columns were selected, except: location, date.\n",
    "columns = ['maxtemp', 'evaporation_final','sunshine_final','humidity9am_final', 'humidity3pm_final', \n",
    "           'pressure9am', 'pressure3pm','cloud9am', 'cloud3pm_final', 'temp9am', 'temp3pm', \n",
    "           'precipitation3pm','precipitation9am', 'wind_speed9am_complete_final', 'wind_speed3pm_complete',\n",
    "           'raintoday_int','wind_dir9am_complete_final_int', 'wind_dir3pm_complete_final_int']\n",
    "\n",
    "X = df_ma[columns]\n",
    "y = df_ma['raintomorrow_int']"
   ]
  },
  {
   "cell_type": "markdown",
   "metadata": {},
   "source": [
    "### Definição do treino e teste:"
   ]
  },
  {
   "cell_type": "code",
   "execution_count": 9,
   "metadata": {
    "ExecuteTime": {
     "end_time": "2020-10-09T12:13:03.779797Z",
     "start_time": "2020-10-09T12:13:03.617442Z"
    }
   },
   "outputs": [],
   "source": [
    "#Definição manual do X_train e X_test:\n",
    "#80% dataset para treino, 20% dataset para teste. Processo feito para evitar criar um modelo com dados do futuro.\n",
    "train_len = int(df_ma.shape[0]*0.8) \n",
    "X_train = X.iloc[:train_len, :]\n",
    "X_test = X.iloc[train_len:, :]\n",
    "y_train = y[:train_len]\n",
    "y_test = y[train_len:]"
   ]
  },
  {
   "cell_type": "code",
   "execution_count": 10,
   "metadata": {
    "ExecuteTime": {
     "end_time": "2020-10-09T12:13:03.967291Z",
     "start_time": "2020-10-09T12:13:03.788778Z"
    }
   },
   "outputs": [
    {
     "name": "stdout",
     "output_type": "stream",
     "text": [
      "Total of lines from dataframe: 2873\n",
      "\n",
      "\n",
      "Total columns of X: 2873\n",
      "Total columns of y: 2873\n"
     ]
    }
   ],
   "source": [
    "#Validando se o dataset foi corrigido corretamente:\n",
    "print('Total of lines from dataframe:',df_ma.shape[0])\n",
    "print('\\n')\n",
    "print(f'Total columns of X: {X_train.shape[0] + X_test.shape[0]}')\n",
    "print(f'Total columns of y: {y_train.shape[0] + y_test.shape[0]}')"
   ]
  },
  {
   "cell_type": "markdown",
   "metadata": {},
   "source": [
    "### Yellow Brick"
   ]
  },
  {
   "cell_type": "code",
   "execution_count": 11,
   "metadata": {
    "ExecuteTime": {
     "end_time": "2020-10-09T12:13:04.199148Z",
     "start_time": "2020-10-09T12:13:03.988277Z"
    }
   },
   "outputs": [],
   "source": [
    "scaler = StandardScaler()\n",
    "scaler.fit(X_train)\n",
    "\n",
    "#Standard X_train\n",
    "X_train_std = scaler.transform(X_train)"
   ]
  },
  {
   "cell_type": "code",
   "execution_count": 12,
   "metadata": {
    "ExecuteTime": {
     "end_time": "2020-10-09T12:13:34.638776Z",
     "start_time": "2020-10-09T12:13:04.210143Z"
    }
   },
   "outputs": [
    {
     "name": "stderr",
     "output_type": "stream",
     "text": [
      "C:\\Users\\Leticia\\anaconda3\\lib\\site-packages\\sklearn\\base.py:209: FutureWarning: From version 0.24, get_params will raise an AttributeError if a parameter cannot be retrieved as an instance attribute. Previously it would return None.\n",
      "  warnings.warn('From version 0.24, get_params will raise an '\n",
      "C:\\Users\\Leticia\\anaconda3\\lib\\site-packages\\sklearn\\base.py:209: FutureWarning: From version 0.24, get_params will raise an AttributeError if a parameter cannot be retrieved as an instance attribute. Previously it would return None.\n",
      "  warnings.warn('From version 0.24, get_params will raise an '\n"
     ]
    },
    {
     "data": {
      "image/png": "[encoded data removed]",
      "text/plain": [
       "<Figure size 576x396 with 1 Axes>"
      ]
     },
     "metadata": {},
     "output_type": "display_data"
    },
    {
     "data": {
      "text/plain": [
       "<matplotlib.axes._subplots.AxesSubplot at 0x1c28ccd95e0>"
      ]
     },
     "execution_count": 12,
     "metadata": {},
     "output_type": "execute_result"
    }
   ],
   "source": [
    "#Recursive Feature Elimination in Yellowbricks\n",
    "\n",
    "from yellowbrick.features import RFECV\n",
    "model = LogisticRegression()\n",
    "\n",
    "visualizer = RFECV(model, scoring='recall')\n",
    "\n",
    "visualizer.fit(X_train_std, y_train)        \n",
    "visualizer.show()"
   ]
  },
  {
   "cell_type": "code",
   "execution_count": 13,
   "metadata": {
    "ExecuteTime": {
     "end_time": "2020-10-09T12:13:34.655765Z",
     "start_time": "2020-10-09T12:13:34.641772Z"
    },
    "scrolled": true
   },
   "outputs": [
    {
     "data": {
      "text/plain": [
       "array([ 1,  7,  1,  1,  1,  1,  1,  5,  1,  1,  9,  8,  6, 10,  2,  1,  4,\n",
       "        3])"
      ]
     },
     "execution_count": 13,
     "metadata": {},
     "output_type": "execute_result"
    }
   ],
   "source": [
    "visualizer.ranking_"
   ]
  },
  {
   "cell_type": "code",
   "execution_count": 14,
   "metadata": {
    "ExecuteTime": {
     "end_time": "2020-10-09T12:13:34.919183Z",
     "start_time": "2020-10-09T12:13:34.666759Z"
    }
   },
   "outputs": [
    {
     "data": {
      "text/plain": [
       "Index(['maxtemp', 'sunshine_final', 'humidity9am_final', 'humidity3pm_final',\n",
       "       'pressure9am', 'pressure3pm', 'cloud3pm_final', 'temp9am',\n",
       "       'raintoday_int'],\n",
       "      dtype='object')"
      ]
     },
     "execution_count": 14,
     "metadata": {},
     "output_type": "execute_result"
    }
   ],
   "source": [
    "X_train.columns[visualizer.ranking_ == 1 ]"
   ]
  },
  {
   "cell_type": "markdown",
   "metadata": {},
   "source": [
    "The features that are the **most relevant** for the model are:\n",
    "- 'maxtemp';\n",
    "- 'sunshine_final';\n",
    "- 'humidity9am_final';\n",
    "- 'humidity3pm_final';\n",
    "- 'pressure9am';\n",
    "- 'pressure3pm';\n",
    "- 'cloud3pm_final';\n",
    "- 'temp9am';\n",
    "- 'raintoday_int'."
   ]
  },
  {
   "cell_type": "markdown",
   "metadata": {},
   "source": [
    "### Setup the model with relevant features"
   ]
  },
  {
   "cell_type": "code",
   "execution_count": 15,
   "metadata": {
    "ExecuteTime": {
     "end_time": "2020-10-09T12:13:35.152521Z",
     "start_time": "2020-10-09T12:13:34.930157Z"
    }
   },
   "outputs": [],
   "source": [
    "#Defining X and Y, using only the relevant features\n",
    "X = df_ma[['maxtemp', 'sunshine_final', 'humidity9am_final', 'humidity3pm_final',\n",
    "       'pressure9am', 'pressure3pm', 'cloud3pm_final', 'temp9am',\n",
    "       'raintoday_int']]\n",
    "y = df_ma['raintomorrow_int']"
   ]
  },
  {
   "cell_type": "code",
   "execution_count": 16,
   "metadata": {
    "ExecuteTime": {
     "end_time": "2020-10-09T12:13:35.338856Z",
     "start_time": "2020-10-09T12:13:35.155519Z"
    }
   },
   "outputs": [],
   "source": [
    "#Definição manual do X_train e X_test:\n",
    "#80% dataset para treino, 20% dataset para teste. Processo feito para evitar criar um modelo com dados do futuro.\n",
    "train_len = int(df_ma.shape[0]*0.8) \n",
    "X_train = X.iloc[:train_len, :]\n",
    "X_test = X.iloc[train_len:, :]\n",
    "y_train = y[:train_len]\n",
    "y_test = y[train_len:]"
   ]
  },
  {
   "cell_type": "code",
   "execution_count": 17,
   "metadata": {
    "ExecuteTime": {
     "end_time": "2020-10-09T12:13:35.554595Z",
     "start_time": "2020-10-09T12:13:35.341826Z"
    }
   },
   "outputs": [],
   "source": [
    "scaler = StandardScaler()\n",
    "scaler.fit(X_train)\n",
    "\n",
    "#Standard X_train\n",
    "X_train_std = scaler.transform(X_train)\n",
    "\n",
    "#Standard X_test\n",
    "X_test_std = scaler.transform(X_test)"
   ]
  },
  {
   "cell_type": "markdown",
   "metadata": {},
   "source": [
    "### Coefficients"
   ]
  },
  {
   "cell_type": "code",
   "execution_count": 18,
   "metadata": {
    "ExecuteTime": {
     "end_time": "2020-10-09T12:13:35.803907Z",
     "start_time": "2020-10-09T12:13:35.558599Z"
    }
   },
   "outputs": [
    {
     "data": {
      "text/plain": [
       "LogisticRegression()"
      ]
     },
     "execution_count": 18,
     "metadata": {},
     "output_type": "execute_result"
    }
   ],
   "source": [
    "# Instance the model\n",
    "logistic = LogisticRegression()\n",
    "# Train the model\n",
    "logistic.fit(X=X_train_std, y=y_train)"
   ]
  },
  {
   "cell_type": "code",
   "execution_count": 19,
   "metadata": {
    "ExecuteTime": {
     "end_time": "2020-10-09T12:13:36.130756Z",
     "start_time": "2020-10-09T12:13:35.807905Z"
    }
   },
   "outputs": [
    {
     "data": {
      "text/html": [
       "<div>\n",
       "<style scoped>\n",
       "    .dataframe tbody tr th:only-of-type {\n",
       "        vertical-align: middle;\n",
       "    }\n",
       "\n",
       "    .dataframe tbody tr th {\n",
       "        vertical-align: top;\n",
       "    }\n",
       "\n",
       "    .dataframe thead th {\n",
       "        text-align: right;\n",
       "    }\n",
       "</style>\n",
       "<table border=\"1\" class=\"dataframe\">\n",
       "  <thead>\n",
       "    <tr style=\"text-align: right;\">\n",
       "      <th></th>\n",
       "      <th>feature</th>\n",
       "      <th>coefficient</th>\n",
       "    </tr>\n",
       "  </thead>\n",
       "  <tbody>\n",
       "    <tr>\n",
       "      <th>0</th>\n",
       "      <td>humidity3pm_final</td>\n",
       "      <td>1.041118</td>\n",
       "    </tr>\n",
       "    <tr>\n",
       "      <th>1</th>\n",
       "      <td>pressure9am</td>\n",
       "      <td>0.801977</td>\n",
       "    </tr>\n",
       "    <tr>\n",
       "      <th>2</th>\n",
       "      <td>maxtemp</td>\n",
       "      <td>0.531372</td>\n",
       "    </tr>\n",
       "    <tr>\n",
       "      <th>3</th>\n",
       "      <td>cloud3pm_final</td>\n",
       "      <td>0.322818</td>\n",
       "    </tr>\n",
       "    <tr>\n",
       "      <th>4</th>\n",
       "      <td>raintoday_int</td>\n",
       "      <td>0.154096</td>\n",
       "    </tr>\n",
       "    <tr>\n",
       "      <th>5</th>\n",
       "      <td>humidity9am_final</td>\n",
       "      <td>-0.248987</td>\n",
       "    </tr>\n",
       "    <tr>\n",
       "      <th>6</th>\n",
       "      <td>temp9am</td>\n",
       "      <td>-0.351909</td>\n",
       "    </tr>\n",
       "    <tr>\n",
       "      <th>7</th>\n",
       "      <td>sunshine_final</td>\n",
       "      <td>-0.434522</td>\n",
       "    </tr>\n",
       "    <tr>\n",
       "      <th>8</th>\n",
       "      <td>pressure3pm</td>\n",
       "      <td>-1.706659</td>\n",
       "    </tr>\n",
       "  </tbody>\n",
       "</table>\n",
       "</div>"
      ],
      "text/plain": [
       "             feature  coefficient\n",
       "0  humidity3pm_final     1.041118\n",
       "1        pressure9am     0.801977\n",
       "2            maxtemp     0.531372\n",
       "3     cloud3pm_final     0.322818\n",
       "4      raintoday_int     0.154096\n",
       "5  humidity9am_final    -0.248987\n",
       "6            temp9am    -0.351909\n",
       "7     sunshine_final    -0.434522\n",
       "8        pressure3pm    -1.706659"
      ]
     },
     "execution_count": 19,
     "metadata": {},
     "output_type": "execute_result"
    }
   ],
   "source": [
    "# Instance the model\n",
    "logistic = LogisticRegression()\n",
    "# Train the model\n",
    "logistic.fit(X=X_train_std, y=y_train)\n",
    "\n",
    "# Checking the coefficients\n",
    "pd.DataFrame(zip(X_train.columns, logistic.coef_.tolist()[0]), \n",
    "             columns=['feature', 'coefficient']).sort_values(by='coefficient', ascending=False).reset_index(drop=True)"
   ]
  },
  {
   "cell_type": "markdown",
   "metadata": {
    "ExecuteTime": {
     "end_time": "2020-10-09T10:36:57.710890Z",
     "start_time": "2020-10-09T10:36:57.690880Z"
    }
   },
   "source": [
    "Interpretação:<br>\n",
    "Os coeficientes afetam a probabilidade (de maneira indireta).Quanto maior o coeficiente, maior o impacto na probabilidade de chuva.\n",
    "    \n",
    "Insights:\n",
    "- `pressure3pm` é o coeficiente mais influente, que gera um impacto negativo, diminuindo a chance da chuva ocorrer.\n",
    "- `humidity3pm_final` é o segundo coeficiente mais influente, que afeta a probabilidade de maneira positiva."
   ]
  },
  {
   "cell_type": "markdown",
   "metadata": {
    "ExecuteTime": {
     "end_time": "2020-10-08T17:53:27.147176Z",
     "start_time": "2020-10-08T17:53:27.128190Z"
    }
   },
   "source": [
    "## Hyper Parameters"
   ]
  },
  {
   "cell_type": "markdown",
   "metadata": {},
   "source": [
    "Applying the `Hyper Parameters` into Analysis01 (Yellowbricks method to find out the most relevant features).<br>\n",
    "Obs: We will use the cross validation `TimeSeriesSplit`, because the data it's on a time line and we can't use data from future to execute the validation."
   ]
  },
  {
   "cell_type": "code",
   "execution_count": 20,
   "metadata": {
    "ExecuteTime": {
     "end_time": "2020-10-09T12:13:36.208712Z",
     "start_time": "2020-10-09T12:13:36.133756Z"
    }
   },
   "outputs": [],
   "source": [
    "# Instance the cross validation - TimeSeriesSplit because the time it's important\n",
    "cv = TimeSeriesSplit(n_splits=5)"
   ]
  },
  {
   "cell_type": "code",
   "execution_count": 21,
   "metadata": {
    "ExecuteTime": {
     "end_time": "2020-10-09T12:13:36.411977Z",
     "start_time": "2020-10-09T12:13:36.212709Z"
    }
   },
   "outputs": [
    {
     "data": {
      "text/plain": [
       "dict_keys(['C', 'class_weight', 'dual', 'fit_intercept', 'intercept_scaling', 'l1_ratio', 'max_iter', 'multi_class', 'n_jobs', 'penalty', 'random_state', 'solver', 'tol', 'verbose', 'warm_start'])"
      ]
     },
     "execution_count": 21,
     "metadata": {},
     "output_type": "execute_result"
    }
   ],
   "source": [
    " logistic.get_params().keys()"
   ]
  },
  {
   "cell_type": "code",
   "execution_count": 22,
   "metadata": {
    "ExecuteTime": {
     "end_time": "2020-10-09T12:19:40.838735Z",
     "start_time": "2020-10-09T12:13:36.418970Z"
    }
   },
   "outputs": [
    {
     "name": "stdout",
     "output_type": "stream",
     "text": [
      "Fitting 5 folds for each of 10000 candidates, totalling 50000 fits\n"
     ]
    },
    {
     "name": "stderr",
     "output_type": "stream",
     "text": [
      "[Parallel(n_jobs=-1)]: Using backend LokyBackend with 4 concurrent workers.\n",
      "[Parallel(n_jobs=-1)]: Done  42 tasks      | elapsed:    6.2s\n",
      "[Parallel(n_jobs=-1)]: Done 1120 tasks      | elapsed:   17.0s\n",
      "[Parallel(n_jobs=-1)]: Done 3120 tasks      | elapsed:   32.1s\n",
      "[Parallel(n_jobs=-1)]: Done 5920 tasks      | elapsed:   55.2s\n",
      "[Parallel(n_jobs=-1)]: Done 9520 tasks      | elapsed:  1.3min\n",
      "[Parallel(n_jobs=-1)]: Done 13920 tasks      | elapsed:  1.8min\n",
      "[Parallel(n_jobs=-1)]: Done 19120 tasks      | elapsed:  2.5min\n",
      "[Parallel(n_jobs=-1)]: Done 25120 tasks      | elapsed:  3.2min\n",
      "[Parallel(n_jobs=-1)]: Done 31920 tasks      | elapsed:  4.1min\n",
      "[Parallel(n_jobs=-1)]: Done 39520 tasks      | elapsed:  4.9min\n",
      "[Parallel(n_jobs=-1)]: Done 47920 tasks      | elapsed:  5.8min\n",
      "[Parallel(n_jobs=-1)]: Done 50000 out of 50000 | elapsed:  6.0min finished\n"
     ]
    },
    {
     "data": {
      "text/plain": [
       "RandomizedSearchCV(cv=TimeSeriesSplit(max_train_size=None, n_splits=5),\n",
       "                   estimator=LogisticRegression(), n_iter=10000, n_jobs=-1,\n",
       "                   param_distributions={'C': <scipy.stats._distn_infrastructure.rv_frozen object at 0x000001C28D42A7C0>},\n",
       "                   scoring='recall', verbose=True)"
      ]
     },
     "execution_count": 22,
     "metadata": {},
     "output_type": "execute_result"
    }
   ],
   "source": [
    "import random\n",
    "from sklearn.model_selection import GridSearchCV\n",
    "# specify parameters and distributions to sample from\n",
    "\n",
    "param_dist = {\n",
    "    'C': gamma(1, loc=0, scale=0.1)\n",
    "             }\n",
    "\n",
    "n_iter_search = 10000\n",
    "random_search = RandomizedSearchCV(logistic, \n",
    "                                   param_distributions=param_dist,\n",
    "                                   n_iter=n_iter_search, verbose=True, \n",
    "                                   cv = TimeSeriesSplit(n_splits=5),\n",
    "                                   scoring='recall',\n",
    "                                   n_jobs=-1)\n",
    "\n",
    "random_search.fit(X_train_std, y_train)"
   ]
  },
  {
   "cell_type": "code",
   "execution_count": 23,
   "metadata": {
    "ExecuteTime": {
     "end_time": "2020-10-09T12:19:40.900731Z",
     "start_time": "2020-10-09T12:19:40.855726Z"
    }
   },
   "outputs": [
    {
     "data": {
      "text/plain": [
       "{'C': 0.9673921902504405}"
      ]
     },
     "execution_count": 23,
     "metadata": {},
     "output_type": "execute_result"
    }
   ],
   "source": [
    "random_search.best_params_"
   ]
  },
  {
   "cell_type": "code",
   "execution_count": 24,
   "metadata": {
    "ExecuteTime": {
     "end_time": "2020-10-09T12:19:41.083817Z",
     "start_time": "2020-10-09T12:19:40.921835Z"
    }
   },
   "outputs": [
    {
     "data": {
      "text/plain": [
       "LogisticRegression(C=0.9673921902504405)"
      ]
     },
     "execution_count": 24,
     "metadata": {},
     "output_type": "execute_result"
    }
   ],
   "source": [
    "random_search.best_estimator_"
   ]
  },
  {
   "cell_type": "markdown",
   "metadata": {},
   "source": [
    "## Final model"
   ]
  },
  {
   "cell_type": "markdown",
   "metadata": {},
   "source": [
    "Model with relevant coeficients and with the parameter C seted."
   ]
  },
  {
   "cell_type": "code",
   "execution_count": 25,
   "metadata": {
    "ExecuteTime": {
     "end_time": "2020-10-09T12:19:41.545394Z",
     "start_time": "2020-10-09T12:19:41.089814Z"
    }
   },
   "outputs": [
    {
     "data": {
      "text/plain": [
       "LogisticRegression(C=0.9571268323572962)"
      ]
     },
     "execution_count": 25,
     "metadata": {},
     "output_type": "execute_result"
    }
   ],
   "source": [
    "# Logistic\n",
    "logistic = LogisticRegression(C=0.9571268323572962)\n",
    "\n",
    "#Fit the model\n",
    "logistic.fit(X_train_std, y_train)"
   ]
  },
  {
   "cell_type": "markdown",
   "metadata": {},
   "source": [
    "### Coefficients"
   ]
  },
  {
   "cell_type": "code",
   "execution_count": 26,
   "metadata": {
    "ExecuteTime": {
     "end_time": "2020-10-09T12:19:42.776416Z",
     "start_time": "2020-10-09T12:19:41.550388Z"
    },
    "scrolled": true
   },
   "outputs": [
    {
     "data": {
      "text/html": [
       "<div>\n",
       "<style scoped>\n",
       "    .dataframe tbody tr th:only-of-type {\n",
       "        vertical-align: middle;\n",
       "    }\n",
       "\n",
       "    .dataframe tbody tr th {\n",
       "        vertical-align: top;\n",
       "    }\n",
       "\n",
       "    .dataframe thead th {\n",
       "        text-align: right;\n",
       "    }\n",
       "</style>\n",
       "<table border=\"1\" class=\"dataframe\">\n",
       "  <thead>\n",
       "    <tr style=\"text-align: right;\">\n",
       "      <th></th>\n",
       "      <th>feature</th>\n",
       "      <th>coefficient</th>\n",
       "    </tr>\n",
       "  </thead>\n",
       "  <tbody>\n",
       "    <tr>\n",
       "      <th>0</th>\n",
       "      <td>humidity3pm_final</td>\n",
       "      <td>1.039770</td>\n",
       "    </tr>\n",
       "    <tr>\n",
       "      <th>1</th>\n",
       "      <td>pressure9am</td>\n",
       "      <td>0.796945</td>\n",
       "    </tr>\n",
       "    <tr>\n",
       "      <th>2</th>\n",
       "      <td>maxtemp</td>\n",
       "      <td>0.530194</td>\n",
       "    </tr>\n",
       "    <tr>\n",
       "      <th>3</th>\n",
       "      <td>cloud3pm_final</td>\n",
       "      <td>0.322710</td>\n",
       "    </tr>\n",
       "    <tr>\n",
       "      <th>4</th>\n",
       "      <td>raintoday_int</td>\n",
       "      <td>0.153591</td>\n",
       "    </tr>\n",
       "    <tr>\n",
       "      <th>5</th>\n",
       "      <td>humidity9am_final</td>\n",
       "      <td>-0.248302</td>\n",
       "    </tr>\n",
       "    <tr>\n",
       "      <th>6</th>\n",
       "      <td>temp9am</td>\n",
       "      <td>-0.351040</td>\n",
       "    </tr>\n",
       "    <tr>\n",
       "      <th>7</th>\n",
       "      <td>sunshine_final</td>\n",
       "      <td>-0.434555</td>\n",
       "    </tr>\n",
       "    <tr>\n",
       "      <th>8</th>\n",
       "      <td>pressure3pm</td>\n",
       "      <td>-1.701554</td>\n",
       "    </tr>\n",
       "  </tbody>\n",
       "</table>\n",
       "</div>"
      ],
      "text/plain": [
       "             feature  coefficient\n",
       "0  humidity3pm_final     1.039770\n",
       "1        pressure9am     0.796945\n",
       "2            maxtemp     0.530194\n",
       "3     cloud3pm_final     0.322710\n",
       "4      raintoday_int     0.153591\n",
       "5  humidity9am_final    -0.248302\n",
       "6            temp9am    -0.351040\n",
       "7     sunshine_final    -0.434555\n",
       "8        pressure3pm    -1.701554"
      ]
     },
     "execution_count": 26,
     "metadata": {},
     "output_type": "execute_result"
    }
   ],
   "source": [
    "# Checking the coefficients\n",
    "pd.DataFrame(zip(X_train.columns, logistic.coef_.tolist()[0]), \n",
    "             columns=['feature', 'coefficient']).sort_values(by='coefficient', ascending=False).reset_index(drop=True)"
   ]
  },
  {
   "cell_type": "markdown",
   "metadata": {
    "ExecuteTime": {
     "end_time": "2020-10-09T12:26:41.937661Z",
     "start_time": "2020-10-09T12:26:41.913675Z"
    }
   },
   "source": [
    "Interpretação:<br>\n",
    "Os coeficientes afetam a probabilidade (de maneira indireta).Quanto maior o coeficiente, mais impacto teremos na probabilidade de chuva.\n",
    "    \n",
    "Insights:\n",
    "- `pressure3pm` é o coeficiente mais influente, que gera um impacto negativo, diminuindo a chance da chuva ocorrer.\n",
    "- `humidity3pm_final` é o segundo coeficiente mais influente, que afeta a probabilidade de maneira positiva."
   ]
  },
  {
   "cell_type": "markdown",
   "metadata": {},
   "source": [
    "### Metric"
   ]
  },
  {
   "cell_type": "code",
   "execution_count": 27,
   "metadata": {
    "ExecuteTime": {
     "end_time": "2020-10-09T12:19:43.700972Z",
     "start_time": "2020-10-09T12:19:42.791407Z"
    }
   },
   "outputs": [],
   "source": [
    "# Function to calculate the metrics of the cross validation\n",
    "def calculate_metrics_crossvalidation(X_train, y_train, model, cross_validation):\n",
    "    precision_train = []\n",
    "    precision_val = []   \n",
    "    recall_train = []\n",
    "    recall_val = []\n",
    "    # Calculate metrics for training and validation sets\n",
    "    for train_index, val_index in cross_validation.split(X=X_train):\n",
    "        # Create sets for training and validation\n",
    "        X_train_cv = pd.DataFrame(X_train).iloc[train_index]\n",
    "        y_train_cv = y_train.iloc[train_index]\n",
    "        X_val_cv = pd.DataFrame(X_train).iloc[val_index]\n",
    "        y_val_cv = y_train.iloc[val_index]\n",
    "        # Train the model\n",
    "        model.fit(X_train_cv, y_train_cv)\n",
    "        # Metrics\n",
    "        ## Precision\n",
    "        precision_train.append(precision_score(y_true=y_train_cv, y_pred=model.predict_proba(X_train_cv)[:,1]>0.3))\n",
    "        precision_val.append(precision_score(y_true=y_val_cv, y_pred=model.predict_proba(X_val_cv)[:,1]>0.3))\n",
    "        ## Recall\n",
    "        recall_train.append(recall_score(y_true=y_train_cv, y_pred=model.predict_proba(X_train_cv)[:,1]>0.3))\n",
    "        recall_val.append(recall_score(y_true=y_val_cv, y_pred=model.predict_proba(X_val_cv)[:,1]>0.3))\n",
    "    # Calculate the mean for training and validation sets\n",
    "    ## Precision\n",
    "    precision_train_mean = np.mean(precision_train)\n",
    "    precision_val_mean = np.mean(precision_val)\n",
    "    precision_train_std = np.std(precision_train)\n",
    "    precision_val_std = np.std(precision_val)\n",
    "    ## Recall\n",
    "    recall_train_mean = np.mean(recall_train)\n",
    "    recall_val_mean = np.mean(recall_val)\n",
    "    recall_train_std = np.std(recall_train)\n",
    "    recall_val_std = np.std(recall_val)\n",
    "    return (((precision_train_mean, precision_train_std), (precision_val_mean, precision_val_std)), ((recall_train_mean, recall_train_std), (recall_val_mean, recall_val_std)))"
   ]
  },
  {
   "cell_type": "markdown",
   "metadata": {},
   "source": [
    "#### Train and Validation"
   ]
  },
  {
   "cell_type": "code",
   "execution_count": 28,
   "metadata": {
    "ExecuteTime": {
     "end_time": "2020-10-09T12:19:46.890539Z",
     "start_time": "2020-10-09T12:19:43.707969Z"
    }
   },
   "outputs": [
    {
     "data": {
      "text/html": [
       "<div>\n",
       "<style scoped>\n",
       "    .dataframe tbody tr th:only-of-type {\n",
       "        vertical-align: middle;\n",
       "    }\n",
       "\n",
       "    .dataframe tbody tr th {\n",
       "        vertical-align: top;\n",
       "    }\n",
       "\n",
       "    .dataframe thead th {\n",
       "        text-align: right;\n",
       "    }\n",
       "</style>\n",
       "<table border=\"1\" class=\"dataframe\">\n",
       "  <thead>\n",
       "    <tr style=\"text-align: right;\">\n",
       "      <th></th>\n",
       "      <th>0</th>\n",
       "    </tr>\n",
       "  </thead>\n",
       "  <tbody>\n",
       "    <tr>\n",
       "      <th>model</th>\n",
       "      <td>final</td>\n",
       "    </tr>\n",
       "    <tr>\n",
       "      <th>precision_train_mean</th>\n",
       "      <td>0.572471</td>\n",
       "    </tr>\n",
       "    <tr>\n",
       "      <th>precision_train_std</th>\n",
       "      <td>0.00284175</td>\n",
       "    </tr>\n",
       "    <tr>\n",
       "      <th>precision_val_mean</th>\n",
       "      <td>0.551483</td>\n",
       "    </tr>\n",
       "    <tr>\n",
       "      <th>precision_val_std</th>\n",
       "      <td>0.0291679</td>\n",
       "    </tr>\n",
       "    <tr>\n",
       "      <th>recall_train_mean</th>\n",
       "      <td>0.676271</td>\n",
       "    </tr>\n",
       "    <tr>\n",
       "      <th>recall_train_std</th>\n",
       "      <td>0.0100086</td>\n",
       "    </tr>\n",
       "    <tr>\n",
       "      <th>recall_val_mean</th>\n",
       "      <td>0.628428</td>\n",
       "    </tr>\n",
       "    <tr>\n",
       "      <th>recall_val_std</th>\n",
       "      <td>0.0540461</td>\n",
       "    </tr>\n",
       "  </tbody>\n",
       "</table>\n",
       "</div>"
      ],
      "text/plain": [
       "                               0\n",
       "model                      final\n",
       "precision_train_mean    0.572471\n",
       "precision_train_std   0.00284175\n",
       "precision_val_mean      0.551483\n",
       "precision_val_std      0.0291679\n",
       "recall_train_mean       0.676271\n",
       "recall_train_std       0.0100086\n",
       "recall_val_mean         0.628428\n",
       "recall_val_std         0.0540461"
      ]
     },
     "execution_count": 28,
     "metadata": {},
     "output_type": "execute_result"
    }
   ],
   "source": [
    "# Create a dataframe for the metrics\n",
    "df_metrics_train = pd.DataFrame(columns=['model', \n",
    "                                   'precision_train_mean', 'precision_train_std', 'precision_val_mean', 'precision_val_std', \n",
    "                                   'recall_train_mean', 'recall_train_std', 'recall_val_mean', 'recall_val_std'])\n",
    "# Add row\n",
    "row_values = {'model': 'final',\n",
    "              'precision_train_mean': calculate_metrics_crossvalidation(X_train=X_train_std, y_train=y_train, \n",
    "                                                                        model=logistic, cross_validation=cv)[0][0][0],\n",
    "              'precision_train_std': calculate_metrics_crossvalidation(X_train=X_train_std, y_train=y_train, \n",
    "                                                                       model=logistic, cross_validation=cv)[0][0][1],\n",
    "              'precision_val_mean': calculate_metrics_crossvalidation(X_train=X_train_std, y_train=y_train, \n",
    "                                                                      model=logistic, cross_validation=cv)[0][1][0],\n",
    "              'precision_val_std': calculate_metrics_crossvalidation(X_train=X_train_std, y_train=y_train, \n",
    "                                                                     model=logistic, cross_validation=cv)[0][1][1],\n",
    "              'recall_train_mean': calculate_metrics_crossvalidation(X_train=X_train_std, y_train=y_train, \n",
    "                                                                     model=logistic, cross_validation=cv)[1][0][0],\n",
    "              'recall_train_std': calculate_metrics_crossvalidation(X_train=X_train_std, y_train=y_train, \n",
    "                                                                    model=logistic, cross_validation=cv)[1][0][1],\n",
    "              'recall_val_mean': calculate_metrics_crossvalidation(X_train=X_train_std, y_train=y_train, \n",
    "                                                                   model=logistic, cross_validation=cv)[1][1][0],\n",
    "              'recall_val_std': calculate_metrics_crossvalidation(X_train=X_train_std, y_train=y_train, \n",
    "                                                                  model=logistic, cross_validation=cv)[1][1][1]}\n",
    "df_metrics_train = df_metrics_train.append(row_values, ignore_index=True)\n",
    "# Check the result\n",
    "df_metrics_train.T"
   ]
  },
  {
   "cell_type": "markdown",
   "metadata": {},
   "source": [
    "Insights:\n",
    "- The data obteined it's consistent, because the mean is high and the standard deviation is low;\n",
    "- The group of friends prefer to not want into rain, so, our capture tax must be greather. But, they also don't want to spend without necessity and demand for a good value of precision.\n",
    "> With this cenary, we have good values:\n",
    "~65% of recall and ~55% of precision"
   ]
  },
  {
   "cell_type": "markdown",
   "metadata": {
    "ExecuteTime": {
     "end_time": "2020-10-09T12:28:31.070848Z",
     "start_time": "2020-10-09T12:28:31.063852Z"
    }
   },
   "source": [
    "#### Test"
   ]
  },
  {
   "cell_type": "code",
   "execution_count": 29,
   "metadata": {
    "ExecuteTime": {
     "end_time": "2020-10-09T12:19:46.997462Z",
     "start_time": "2020-10-09T12:19:46.895519Z"
    }
   },
   "outputs": [
    {
     "data": {
      "text/html": [
       "<div>\n",
       "<style scoped>\n",
       "    .dataframe tbody tr th:only-of-type {\n",
       "        vertical-align: middle;\n",
       "    }\n",
       "\n",
       "    .dataframe tbody tr th {\n",
       "        vertical-align: top;\n",
       "    }\n",
       "\n",
       "    .dataframe thead th {\n",
       "        text-align: right;\n",
       "    }\n",
       "</style>\n",
       "<table border=\"1\" class=\"dataframe\">\n",
       "  <thead>\n",
       "    <tr style=\"text-align: right;\">\n",
       "      <th></th>\n",
       "      <th>0</th>\n",
       "    </tr>\n",
       "  </thead>\n",
       "  <tbody>\n",
       "    <tr>\n",
       "      <th>model</th>\n",
       "      <td>final</td>\n",
       "    </tr>\n",
       "    <tr>\n",
       "      <th>precision_test</th>\n",
       "      <td>0.566434</td>\n",
       "    </tr>\n",
       "    <tr>\n",
       "      <th>recall_test</th>\n",
       "      <td>0.648</td>\n",
       "    </tr>\n",
       "  </tbody>\n",
       "</table>\n",
       "</div>"
      ],
      "text/plain": [
       "                       0\n",
       "model              final\n",
       "precision_test  0.566434\n",
       "recall_test        0.648"
      ]
     },
     "execution_count": 29,
     "metadata": {},
     "output_type": "execute_result"
    }
   ],
   "source": [
    "# Create a dataframe for the metrics\n",
    "df_metrics_test = pd.DataFrame(columns=['model', 'precision_test', 'recall_test'])\n",
    "\n",
    "# Add row\n",
    "row_values = {'model': 'final',\n",
    "              'precision_test': precision_score(y_true=y_test, y_pred=logistic.predict_proba(X_test_std)[:,1]>0.3),\n",
    "              'recall_test': recall_score(y_true=y_test, y_pred=logistic.predict_proba(X_test_std)[:,1]>0.3)}\n",
    "df_metrics_test = df_metrics_test.append(row_values, ignore_index=True)\n",
    "# Check the result\n",
    "df_metrics_test.T"
   ]
  },
  {
   "cell_type": "markdown",
   "metadata": {},
   "source": [
    "Insights:\n",
    "\n",
    "Closer metrics on test, validation and train."
   ]
  },
  {
   "cell_type": "code",
   "execution_count": 30,
   "metadata": {
    "ExecuteTime": {
     "end_time": "2020-10-09T12:19:50.145686Z",
     "start_time": "2020-10-09T12:19:47.001459Z"
    }
   },
   "outputs": [
    {
     "data": {
      "image/png": "[encoded data removed]",
      "text/plain": [
       "<Figure size 720x432 with 1 Axes>"
      ]
     },
     "metadata": {},
     "output_type": "display_data"
    }
   ],
   "source": [
    "# Plot ROC Curve\n",
    "fig, ax = plt.subplots(figsize=(10,6))\n",
    "\n",
    "plot_roc_curve(estimator=logistic, X=X_train_std, y=y_train, ax=ax, name='Train')\n",
    "plot_roc_curve(estimator=logistic, X=X_test_std, y=y_test, ax=ax, name='Test');"
   ]
  },
  {
   "cell_type": "markdown",
   "metadata": {
    "ExecuteTime": {
     "end_time": "2020-10-09T12:30:20.038597Z",
     "start_time": "2020-10-09T12:30:20.013041Z"
    }
   },
   "source": [
    "Insights:\n",
    "\n",
    "> AUC of test and train are closer;<br>\n",
    "> Also, the values are good (closer than 1)."
   ]
  },
  {
   "cell_type": "markdown",
   "metadata": {},
   "source": [
    "## Will it rain tomorrow?"
   ]
  },
  {
   "cell_type": "markdown",
   "metadata": {
    "ExecuteTime": {
     "end_time": "2020-10-09T02:30:36.877374Z",
     "start_time": "2020-10-09T02:30:36.853374Z"
    }
   },
   "source": [
    "- Today it's 25/07/2020\n",
    "- Will it rain on 26/07/2020?"
   ]
  },
  {
   "cell_type": "code",
   "execution_count": 31,
   "metadata": {
    "ExecuteTime": {
     "end_time": "2020-10-09T12:19:50.192675Z",
     "start_time": "2020-10-09T12:19:50.148684Z"
    }
   },
   "outputs": [
    {
     "data": {
      "text/html": [
       "<div>\n",
       "<style scoped>\n",
       "    .dataframe tbody tr th:only-of-type {\n",
       "        vertical-align: middle;\n",
       "    }\n",
       "\n",
       "    .dataframe tbody tr th {\n",
       "        vertical-align: top;\n",
       "    }\n",
       "\n",
       "    .dataframe thead th {\n",
       "        text-align: right;\n",
       "    }\n",
       "</style>\n",
       "<table border=\"1\" class=\"dataframe\">\n",
       "  <thead>\n",
       "    <tr style=\"text-align: right;\">\n",
       "      <th></th>\n",
       "      <th>date</th>\n",
       "      <th>location</th>\n",
       "      <th>maxtemp</th>\n",
       "      <th>evaporation_final</th>\n",
       "      <th>sunshine_final</th>\n",
       "      <th>humidity9am_final</th>\n",
       "      <th>humidity3pm_final</th>\n",
       "      <th>pressure9am</th>\n",
       "      <th>pressure3pm</th>\n",
       "      <th>cloud9am</th>\n",
       "      <th>...</th>\n",
       "      <th>temp9am</th>\n",
       "      <th>temp3pm</th>\n",
       "      <th>precipitation3pm</th>\n",
       "      <th>precipitation9am</th>\n",
       "      <th>wind_speed9am_complete_final</th>\n",
       "      <th>wind_speed3pm_complete</th>\n",
       "      <th>wind_dir9am_complete_final_int</th>\n",
       "      <th>wind_dir3pm_complete_final_int</th>\n",
       "      <th>raintoday_int</th>\n",
       "      <th>raintomorrow_int</th>\n",
       "    </tr>\n",
       "  </thead>\n",
       "  <tbody>\n",
       "    <tr>\n",
       "      <th>0</th>\n",
       "      <td>2017-06-25</td>\n",
       "      <td>MelbourneAirport</td>\n",
       "      <td>13.9</td>\n",
       "      <td>2.8</td>\n",
       "      <td>3.8</td>\n",
       "      <td>72.0</td>\n",
       "      <td>58.0</td>\n",
       "      <td>1017.8</td>\n",
       "      <td>1015.5</td>\n",
       "      <td>7.0</td>\n",
       "      <td>...</td>\n",
       "      <td>8.1</td>\n",
       "      <td>12.2</td>\n",
       "      <td>11</td>\n",
       "      <td>11.477725</td>\n",
       "      <td>26.0</td>\n",
       "      <td>13.0</td>\n",
       "      <td>0</td>\n",
       "      <td>14</td>\n",
       "      <td>0</td>\n",
       "      <td>0</td>\n",
       "    </tr>\n",
       "  </tbody>\n",
       "</table>\n",
       "<p>1 rows × 21 columns</p>\n",
       "</div>"
      ],
      "text/plain": [
       "         date          location  maxtemp  evaporation_final  sunshine_final  \\\n",
       "0  2017-06-25  MelbourneAirport     13.9                2.8             3.8   \n",
       "\n",
       "   humidity9am_final  humidity3pm_final  pressure9am  pressure3pm  cloud9am  \\\n",
       "0               72.0               58.0       1017.8       1015.5       7.0   \n",
       "\n",
       "   ...  temp9am  temp3pm  precipitation3pm  precipitation9am  \\\n",
       "0  ...      8.1     12.2                11         11.477725   \n",
       "\n",
       "   wind_speed9am_complete_final  wind_speed3pm_complete  \\\n",
       "0                          26.0                    13.0   \n",
       "\n",
       "   wind_dir9am_complete_final_int  wind_dir3pm_complete_final_int  \\\n",
       "0                               0                              14   \n",
       "\n",
       "   raintoday_int  raintomorrow_int  \n",
       "0              0                 0  \n",
       "\n",
       "[1 rows x 21 columns]"
      ]
     },
     "execution_count": 31,
     "metadata": {},
     "output_type": "execute_result"
    }
   ],
   "source": [
    "df_ma_today = pd.read_csv('exported_df/today_dataset.csv')\n",
    "df_ma_today"
   ]
  },
  {
   "cell_type": "code",
   "execution_count": 32,
   "metadata": {
    "ExecuteTime": {
     "end_time": "2020-10-09T12:19:51.499090Z",
     "start_time": "2020-10-09T12:19:50.195679Z"
    }
   },
   "outputs": [],
   "source": [
    "X_today = df_ma_today[['maxtemp', 'sunshine_final', 'humidity9am_final', 'humidity3pm_final',\n",
    "       'pressure9am', 'pressure3pm', 'cloud3pm_final', 'temp9am',\n",
    "       'raintoday_int']]\n",
    "y_today= df_ma_today['raintomorrow_int']"
   ]
  },
  {
   "cell_type": "code",
   "execution_count": 33,
   "metadata": {
    "ExecuteTime": {
     "end_time": "2020-10-09T12:19:52.799898Z",
     "start_time": "2020-10-09T12:19:51.510097Z"
    }
   },
   "outputs": [
    {
     "data": {
      "text/plain": [
       "array([[0.86952819, 0.13047181]])"
      ]
     },
     "execution_count": 33,
     "metadata": {},
     "output_type": "execute_result"
    }
   ],
   "source": [
    "# Instance the class (standard)\n",
    "scaler = StandardScaler()\n",
    "\n",
    "# Train the 'scaler'\n",
    "scaler.fit(X_today)\n",
    "\n",
    "# Standardize the variables - to convert for the same scale\n",
    "X_test_std  = scaler.transform(X_today)\n",
    "\n",
    "logistic.predict_proba(X_test_std)"
   ]
  },
  {
   "cell_type": "markdown",
   "metadata": {
    "ExecuteTime": {
     "end_time": "2020-10-09T11:35:20.328044Z",
     "start_time": "2020-10-09T11:35:20.315054Z"
    }
   },
   "source": [
    "- The chance of **not rain** tomorrow it's: 0.86950519;\n",
    "- The chance of **rain tomorrow** it's: 0.13049481;"
   ]
  },
  {
   "cell_type": "code",
   "execution_count": 34,
   "metadata": {
    "ExecuteTime": {
     "end_time": "2020-10-09T12:19:53.696870Z",
     "start_time": "2020-10-09T12:19:52.803875Z"
    }
   },
   "outputs": [
    {
     "name": "stdout",
     "output_type": "stream",
     "text": [
      "It will not rain tomorrow! The group could go on foot!\n"
     ]
    }
   ],
   "source": [
    "if (logistic.predict_proba(X_test_std)[0][0]>logistic.predict_proba(X_test_std)[0][1]):\n",
    "    print(\"It will not rain tomorrow! The group could go on foot!\")\n",
    "else:\n",
    "    print(\"It will rain tomorrow! They should use some type of transportation!\")"
   ]
  }
 ],
 "metadata": {
  "hide_input": false,
  "kernelspec": {
   "display_name": "Python 3",
   "language": "python",
   "name": "python3"
  },
  "language_info": {
   "codemirror_mode": {
    "name": "ipython",
    "version": 3
   },
   "file_extension": ".py",
   "mimetype": "text/x-python",
   "name": "python",
   "nbconvert_exporter": "python",
   "pygments_lexer": "ipython3",
   "version": "3.8.3"
  },
  "toc": {
   "base_numbering": 1,
   "nav_menu": {},
   "number_sections": true,
   "sideBar": true,
   "skip_h1_title": false,
   "title_cell": "Table of Contents",
   "title_sidebar": "Contents",
   "toc_cell": false,
   "toc_position": {
    "height": "calc(100% - 180px)",
    "left": "10px",
    "top": "150px",
    "width": "303.542px"
   },
   "toc_section_display": true,
   "toc_window_display": true
  },
  "varInspector": {
   "cols": {
    "lenName": 16,
    "lenType": 16,
    "lenVar": 40
   },
   "kernels_config": {
    "python": {
     "delete_cmd_postfix": "",
     "delete_cmd_prefix": "del ",
     "library": "var_list.py",
     "varRefreshCmd": "print(var_dic_list())"
    },
    "r": {
     "delete_cmd_postfix": ") ",
     "delete_cmd_prefix": "rm(",
     "library": "var_list.r",
     "varRefreshCmd": "cat(var_dic_list()) "
    }
   },
   "types_to_exclude": [
    "module",
    "function",
    "builtin_function_or_method",
    "instance",
    "_Feature"
   ],
   "window_display": false
  }
 },
 "nbformat": 4,
 "nbformat_minor": 4
}
